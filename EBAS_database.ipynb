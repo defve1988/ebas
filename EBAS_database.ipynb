{
 "cells": [
  {
   "cell_type": "markdown",
   "id": "aa04c7d3",
   "metadata": {},
   "source": [
    "## EBAS Database"
   ]
  },
  {
   "cell_type": "code",
   "execution_count": 1,
   "id": "8f7b9a72",
   "metadata": {},
   "outputs": [],
   "source": [
    "%load_ext autoreload\n",
    "%autoreload 2"
   ]
  },
  {
   "cell_type": "code",
   "execution_count": 109,
   "id": "12dc63e1",
   "metadata": {},
   "outputs": [],
   "source": [
    "# import package\n",
    "import numpy as np\n",
    "import pandas as pd\n",
    "import matplotlib.pyplot as plt\n",
    "from streamlit_folium import folium_static\n",
    "import folium\n",
    "from branca.colormap import linear, LinearColormap\n",
    "\n",
    "import ipywidgets as widgets\n",
    "from IPython.display import display\n",
    "from IPython.display import clear_output\n",
    "from ipywidgets import TwoByTwoLayout "
   ]
  },
  {
   "cell_type": "code",
   "execution_count": 3,
   "id": "dbb44bee",
   "metadata": {},
   "outputs": [],
   "source": [
    "# import project moduel\n",
    "from ebas_importer import *\n",
    "from ebas_proj import *\n",
    "import utilities"
   ]
  },
  {
   "cell_type": "markdown",
   "id": "b363fbbd",
   "metadata": {},
   "source": [
    "### 1. Create Database\n",
    "#### 1.1 Fetch data from ftp"
   ]
  },
  {
   "cell_type": "code",
   "execution_count": 4,
   "id": "3a4cf43b",
   "metadata": {},
   "outputs": [],
   "source": [
    "# class handle data download, update, create ebas database files\n",
    "ebas_data = EbasData(data_path = r\"C:\\Users\\zhouc\\Desktop\\GitHub\\ebas\\raw_data\", # path store the raw data file\n",
    "                file_type=\"nc\",   # need to support .nas file \n",
    "                compression=None) # can also be 'xz', if used, the database will be reduced to ~800MB"
   ]
  },
  {
   "cell_type": "code",
   "execution_count": 8,
   "id": "dd9eff79",
   "metadata": {},
   "outputs": [
    {
     "name": "stdout",
     "output_type": "stream",
     "text": [
      "----------------------------------------------------------------------------------------------------\n",
      "Check for updates...\n",
      "12971 raw data files in current data directory.\n",
      "Reqesting data from ftp...\n",
      "12974 files on ftp server.\n"
     ]
    },
    {
     "name": "stderr",
     "output_type": "stream",
     "text": [
      "check ftp files...: 100%|█████████████████████████████████████████████████████| 12974/12974 [00:00<00:00, 14639.02it/s]\n",
      "check local files...: 100%|███████████████████████████████████████████████████| 12972/12972 [00:00<00:00, 14661.60it/s]\n"
     ]
    },
    {
     "name": "stdout",
     "output_type": "stream",
     "text": [
      "24 files need to be added.\n",
      "21 files need to be archived.\n",
      "100% [............................................................................] 287742 / 287742 ------1/24\n",
      "100% [..........................................................................] 3460926 / 3460926 ------2/24\n",
      "100% [........................................................................] 74063768 / 74063768 ------3/24\n",
      "100% [........................................................................] 15163562 / 15163562 ------4/24\n",
      "100% [............................................................................] 184089 / 184089 ------5/24\n",
      "100% [............................................................................] 192309 / 192309 ------6/24\n",
      "100% [............................................................................] 200501 / 200501 ------7/24\n",
      "100% [............................................................................] 200501 / 200501 ------8/24\n",
      "100% [..........................................................................] 4892735 / 4892735 ------9/24\n",
      "100% [............................................................................] 554725 / 554725 ------10/24\n",
      "100% [............................................................................] 554277 / 554277 ------11/24\n",
      "100% [..........................................................................] 1018941 / 1018941 ------12/24\n",
      "100% [..........................................................................] 1757794 / 1757794 ------13/24\n",
      "100% [........................................................................] 60856520 / 60856520 ------14/24\n",
      "100% [........................................................................] 71865435 / 71865435 ------15/24\n",
      "100% [..........................................................................] 7968721 / 7968721 ------16/24\n",
      "100% [..........................................................................] 7628483 / 7628483 ------17/24\n",
      "100% [............................................................................] 686052 / 686052 ------18/24\n",
      "100% [..........................................................................] 2570916 / 2570916 ------19/24\n",
      "100% [........................................................................] 68685021 / 68685021 ------20/24\n",
      "100% [........................................................................] 74394546 / 74394546 ------21/24\n",
      "100% [........................................................................] 18339542 / 18339542 ------22/24\n",
      "100% [........................................................................] 82612709 / 82612709 ------23/24\n",
      "100% [........................................................................] 21434255 / 21434255 ------24/24\n",
      "Data is written to errors.csv.\n",
      "----------------------------------------------------------------------------------------------------\n"
     ]
    }
   ],
   "source": [
    "# check updates for local raw data \n",
    "ebas_data.check_updates(download=True,   # file will be download if download = True\n",
    "                       print_file=False) # control whether print file names"
   ]
  },
  {
   "cell_type": "markdown",
   "id": "74757673",
   "metadata": {},
   "source": [
    "#### 1.2. Summary site information"
   ]
  },
  {
   "cell_type": "code",
   "execution_count": 15,
   "id": "9e844292",
   "metadata": {},
   "outputs": [
    {
     "name": "stdout",
     "output_type": "stream",
     "text": [
      "----------------------------------------------------------------------------------------------------\n",
      "Gathering site information...\n"
     ]
    },
    {
     "name": "stderr",
     "output_type": "stream",
     "text": [
      "100%|███████████████████████████████████████████████████████████████████████████| 12974/12974 [01:35<00:00, 135.98it/s]\n"
     ]
    },
    {
     "name": "stdout",
     "output_type": "stream",
     "text": [
      "site number : 882\n",
      "Dumping data to disk...\n",
      "Data is written to 'site_infor.xz'.\n",
      "creating value index...\n",
      "----------------------------------------------------------------------------------------------------\n",
      "Gathering site information...\n"
     ]
    },
    {
     "name": "stderr",
     "output_type": "stream",
     "text": [
      "100%|███████████████████████████████████████████████████████████████████████████| 12974/12974 [01:33<00:00, 138.17it/s]\n"
     ]
    },
    {
     "name": "stdout",
     "output_type": "stream",
     "text": [
      "site number : 882\n",
      "Dumping data to disk...\n",
      "Data is written to 'site_infor.xz'.\n"
     ]
    }
   ],
   "source": [
    "# All the information of .nc file will be recorded if detailed set as True.\n",
    "ebas_data.data_importer.detailed = False\n",
    "\n",
    "# gather information for each site, and dump to file as database indexing file:\n",
    "# 1. site geographcial information\n",
    "# 2. how many files, components measured for this site\n",
    "# value index must be created before it can be used.\n",
    "ebas_data.get_site_infor(exporting = \"xz\",      # if None: export as .json\n",
    "                         use_value_index = False # if True: use number to replace string values of some attributes.\n",
    "                        )\n",
    "\n",
    "# value index will be created for site, component, matrix, unit, resolution\n",
    "# use value index will largely decrease database size\n",
    "# \"value_index\" file will be generated for feature usage\n",
    "ebas_data.create_value_index()\n",
    "\n",
    "# update site information with value index\n",
    "ebas_data.get_site_infor(use_value_index=True)"
   ]
  },
  {
   "cell_type": "markdown",
   "id": "94ec3c99",
   "metadata": {},
   "source": [
    "#### 1.3. Generate database files"
   ]
  },
  {
   "cell_type": "code",
   "execution_count": 17,
   "id": "87f6a6dd",
   "metadata": {},
   "outputs": [
    {
     "name": "stdout",
     "output_type": "stream",
     "text": [
      "Importing datafile of each site...\n"
     ]
    },
    {
     "name": "stderr",
     "output_type": "stream",
     "text": [
      "100%|████████████████████████████████████████████████████████████████████████████████| 882/882 [01:25<00:00, 10.34it/s]\n"
     ]
    }
   ],
   "source": [
    "# create data file for each site\n",
    "# those files will be loaded when database runs\n",
    "ebas_data.import_site_data()"
   ]
  },
  {
   "cell_type": "markdown",
   "id": "eb164183",
   "metadata": {},
   "source": [
    "### 2. Run Database  \n",
    "#### 2.1 Database config"
   ]
  },
  {
   "cell_type": "code",
   "execution_count": 68,
   "id": "2e7b98e7",
   "metadata": {},
   "outputs": [
    {
     "name": "stdout",
     "output_type": "stream",
     "text": [
      "init database...\n",
      "\t882 files in the data path ebas_proj_dump.\n",
      "\tNone compression method is used in for the data file.\n",
      "load site information...\n",
      "load all ebas data files...\n"
     ]
    },
    {
     "name": "stderr",
     "output_type": "stream",
     "text": [
      "100%|████████████████████████████████████████████████████████████████████████████████| 882/882 [00:19<00:00, 44.94it/s]\n"
     ]
    },
    {
     "name": "stdout",
     "output_type": "stream",
     "text": [
      "gathering database summary...\n",
      "882        sites included in current database.\n",
      "677        components included in current database.\n",
      "32         matrix included in current database.\n",
      "72         country included in current database.\n",
      "Current database ranges from 1971-01-01 to 2021-10-05.\n"
     ]
    }
   ],
   "source": [
    "# run database with configs\n",
    "# about 20s to load all datafiles\n",
    "ebas = EbasDataBase(site_infor_path=\"site_infor.xz\", # this file is generated in 1.2 \n",
    "                    data_path=\"ebas_proj_dump\",      # path stores data files generated in 1.3 \n",
    "                    lazy_loading=False,              # if True, datafile will only be loaded when necessary\n",
    "                    compression=None                 # can be 'xz', should be consistent with 1.1\n",
    "                   )"
   ]
  },
  {
   "cell_type": "markdown",
   "id": "7a477043",
   "metadata": {},
   "source": [
    "#### 2.2 Query from database"
   ]
  },
  {
   "cell_type": "code",
   "execution_count": 69,
   "id": "2dc2466b",
   "metadata": {},
   "outputs": [
    {
     "name": "stderr",
     "output_type": "stream",
     "text": [
      "seraching...: 100%|███████████████████████████████████████████████████████████████| 882/882 [00:00<00:00, 18170.09it/s]\n"
     ]
    },
    {
     "name": "stdout",
     "output_type": "stream",
     "text": [
      "Loading necessary data...\n"
     ]
    },
    {
     "name": "stderr",
     "output_type": "stream",
     "text": [
      "0it [00:00, ?it/s]\n"
     ]
    },
    {
     "name": "stdout",
     "output_type": "stream",
     "text": [
      "Gathering data to dataframe...\n"
     ]
    },
    {
     "name": "stderr",
     "output_type": "stream",
     "text": [
      "100%|██████████████████████████████████████████████████████████████████████████████| 128/128 [00:00<00:00, 1705.20it/s]\n"
     ]
    }
   ],
   "source": [
    "# config a search with dict\n",
    "search_dict={\n",
    "    \"component\":[\"nitrate\", \"nitric_acid\"],\n",
    "    \"matrix\":[\"air\", \"aerosol\"],\n",
    "    \"stat\":['arithmetic mean',\"median\"],\n",
    "    \"st\":np.datetime64(\"1970-01-01\"),\n",
    "    \"ed\":np.datetime64(\"2021-10-01\"),\n",
    "    \n",
    "    # other configs:\n",
    "    # \"id\":[\"AM0001R\"]\n",
    "    # \"country\":[\"Denmark\",\"France\"],\n",
    "}\n",
    "\n",
    "# search result will be a pandas DataFrame\n",
    "# note: val is already selected by qc flag.\n",
    "ebas.select_db(search_dict)\n",
    "res_df = ebas.get_selected_db(use_number_index=False) # if use_number_index is True, all the values will be value index."
   ]
  },
  {
   "cell_type": "code",
   "execution_count": 60,
   "id": "87f0fedc",
   "metadata": {},
   "outputs": [
    {
     "name": "stdout",
     "output_type": "stream",
     "text": [
      "(829114, 7)\n"
     ]
    },
    {
     "data": {
      "text/html": [
       "<div>\n",
       "<style scoped>\n",
       "    .dataframe tbody tr th:only-of-type {\n",
       "        vertical-align: middle;\n",
       "    }\n",
       "\n",
       "    .dataframe tbody tr th {\n",
       "        vertical-align: top;\n",
       "    }\n",
       "\n",
       "    .dataframe thead th {\n",
       "        text-align: right;\n",
       "    }\n",
       "</style>\n",
       "<table border=\"1\" class=\"dataframe\">\n",
       "  <thead>\n",
       "    <tr style=\"text-align: right;\">\n",
       "      <th></th>\n",
       "      <th>st</th>\n",
       "      <th>ed</th>\n",
       "      <th>val</th>\n",
       "      <th>site</th>\n",
       "      <th>component</th>\n",
       "      <th>unit</th>\n",
       "      <th>matrix</th>\n",
       "    </tr>\n",
       "  </thead>\n",
       "  <tbody>\n",
       "    <tr>\n",
       "      <th>0</th>\n",
       "      <td>2009-01-01 03:00:00</td>\n",
       "      <td>2009-01-02 03:00:00</td>\n",
       "      <td>0.026</td>\n",
       "      <td>AM0001R</td>\n",
       "      <td>nitrate</td>\n",
       "      <td>ug N/m3</td>\n",
       "      <td>aerosol</td>\n",
       "    </tr>\n",
       "    <tr>\n",
       "      <th>1</th>\n",
       "      <td>2009-01-02 03:00:00</td>\n",
       "      <td>2009-01-03 03:00:00</td>\n",
       "      <td>NaN</td>\n",
       "      <td>AM0001R</td>\n",
       "      <td>nitrate</td>\n",
       "      <td>ug N/m3</td>\n",
       "      <td>aerosol</td>\n",
       "    </tr>\n",
       "    <tr>\n",
       "      <th>2</th>\n",
       "      <td>2009-01-03 03:00:00</td>\n",
       "      <td>2009-01-04 03:00:00</td>\n",
       "      <td>0.015</td>\n",
       "      <td>AM0001R</td>\n",
       "      <td>nitrate</td>\n",
       "      <td>ug N/m3</td>\n",
       "      <td>aerosol</td>\n",
       "    </tr>\n",
       "    <tr>\n",
       "      <th>3</th>\n",
       "      <td>2009-01-04 03:00:00</td>\n",
       "      <td>2009-01-05 03:00:00</td>\n",
       "      <td>0.008</td>\n",
       "      <td>AM0001R</td>\n",
       "      <td>nitrate</td>\n",
       "      <td>ug N/m3</td>\n",
       "      <td>aerosol</td>\n",
       "    </tr>\n",
       "    <tr>\n",
       "      <th>4</th>\n",
       "      <td>2009-01-05 03:00:00</td>\n",
       "      <td>2009-01-06 03:00:00</td>\n",
       "      <td>0.028</td>\n",
       "      <td>AM0001R</td>\n",
       "      <td>nitrate</td>\n",
       "      <td>ug N/m3</td>\n",
       "      <td>aerosol</td>\n",
       "    </tr>\n",
       "  </tbody>\n",
       "</table>\n",
       "</div>"
      ],
      "text/plain": [
       "                   st                  ed    val     site component     unit  \\\n",
       "0 2009-01-01 03:00:00 2009-01-02 03:00:00  0.026  AM0001R   nitrate  ug N/m3   \n",
       "1 2009-01-02 03:00:00 2009-01-03 03:00:00    NaN  AM0001R   nitrate  ug N/m3   \n",
       "2 2009-01-03 03:00:00 2009-01-04 03:00:00  0.015  AM0001R   nitrate  ug N/m3   \n",
       "3 2009-01-04 03:00:00 2009-01-05 03:00:00  0.008  AM0001R   nitrate  ug N/m3   \n",
       "4 2009-01-05 03:00:00 2009-01-06 03:00:00  0.028  AM0001R   nitrate  ug N/m3   \n",
       "\n",
       "    matrix  \n",
       "0  aerosol  \n",
       "1  aerosol  \n",
       "2  aerosol  \n",
       "3  aerosol  \n",
       "4  aerosol  "
      ]
     },
     "execution_count": 60,
     "metadata": {},
     "output_type": "execute_result"
    }
   ],
   "source": [
    "print(res_df.shape)\n",
    "res_df.head()"
   ]
  },
  {
   "cell_type": "markdown",
   "id": "62b2a71f",
   "metadata": {},
   "source": [
    "#### 2.3 Simple UI"
   ]
  },
  {
   "cell_type": "code",
   "execution_count": 110,
   "id": "0c594466",
   "metadata": {},
   "outputs": [],
   "source": [
    "combox1 = widgets.SelectMultiple(\n",
    "    options= ebas.summary[\"components\"],\n",
    "    value=[\"nitrate\"],\n",
    "    description='components:',\n",
    "    disabled=False,\n",
    ")\n",
    "\n",
    "combox2 = widgets.SelectMultiple(\n",
    "    options= ebas.summary[\"matrix\"],\n",
    "    value=[ebas.summary[\"matrix\"][0]],\n",
    "    description='matrix:',\n",
    "    disabled=False,\n",
    ")\n",
    "\n",
    "combox3 = widgets.Dropdown(\n",
    "    options= list(range(1970,2023)),\n",
    "    value=2018,\n",
    "    description='starting date:',\n",
    "    disabled=False,\n",
    ")\n",
    "\n",
    "combox4 = widgets.Dropdown(\n",
    "    options= list(range(1970,2023)),\n",
    "    value=2021,\n",
    "    description='ending date:',\n",
    "    disabled=False,\n",
    ")\n",
    "\n",
    "output = widgets.Output()\n"
   ]
  },
  {
   "cell_type": "code",
   "execution_count": 125,
   "id": "d320cb96",
   "metadata": {},
   "outputs": [],
   "source": [
    "global res_df \n",
    "def on_button_clicked(b):\n",
    "    global res_df \n",
    "    with output:\n",
    "        clear_output()\n",
    "        search_dict={\n",
    "           \"component\":combox1.value,\n",
    "           \"matrix\":combox2.value,\n",
    "           \"stat\":['arithmetic mean',\"median\"],\n",
    "           \"st\":np.datetime64(str(combox3.value)),\n",
    "           \"ed\":np.datetime64(str(combox4.value)),\n",
    "        }\n",
    "        ebas.select_db(search_dict)\n",
    "        res_df = ebas.get_selected_db(use_number_index=False)\n",
    "        print(res_df.shape)\n",
    "        print(res_df.head())"
   ]
  },
  {
   "cell_type": "code",
   "execution_count": 128,
   "id": "dbbb7cd2",
   "metadata": {},
   "outputs": [
    {
     "data": {
      "application/vnd.jupyter.widget-view+json": {
       "model_id": "3fd2d17919e84dfa8b9295449fdf1b76",
       "version_major": 2,
       "version_minor": 0
      },
      "text/plain": [
       "TwoByTwoLayout(children=(SelectMultiple(description='components:', index=(535,), layout=Layout(grid_area='top-…"
      ]
     },
     "metadata": {},
     "output_type": "display_data"
    },
    {
     "data": {
      "application/vnd.jupyter.widget-view+json": {
       "model_id": "e8417d1abf2b453c861aa649b7a65062",
       "version_major": 2,
       "version_minor": 0
      },
      "text/plain": [
       "Button(description='search', style=ButtonStyle())"
      ]
     },
     "metadata": {},
     "output_type": "display_data"
    },
    {
     "data": {
      "application/vnd.jupyter.widget-view+json": {
       "model_id": "bcd775dcc92b4751812f444d6ce43313",
       "version_major": 2,
       "version_minor": 0
      },
      "text/plain": [
       "Output(outputs=({'output_type': 'stream', 'text': 'seraching...: 100%|████████████████████████████████████████…"
      ]
     },
     "metadata": {},
     "output_type": "display_data"
    }
   ],
   "source": [
    "layout = TwoByTwoLayout(top_left=combox1,\n",
    "               top_right=combox2,\n",
    "               bottom_left=combox3,\n",
    "               bottom_right=combox4)\n",
    "        \n",
    "button = widgets.Button(description=\"search\")\n",
    "button.on_click(on_button_clicked)\n",
    "\n",
    "display(layout,button, output)"
   ]
  },
  {
   "cell_type": "markdown",
   "id": "2e61480f",
   "metadata": {},
   "source": [
    "#### 2.4 Visualization"
   ]
  },
  {
   "cell_type": "code",
   "execution_count": 130,
   "id": "25846ba9",
   "metadata": {},
   "outputs": [
    {
     "data": {
      "image/png": "[encoded data removed]",
      "text/plain": [
       "<Figure size 432x288 with 1 Axes>"
      ]
     },
     "metadata": {
      "needs_background": "light"
     },
     "output_type": "display_data"
    }
   ],
   "source": [
    "# plot time series\n",
    "sites = res_df[\"site\"].unique()\n",
    "for s in sites:\n",
    "    temp = res_df[res_df[\"site\"]==s]\n",
    "    temp = temp[temp[\"component\"]==combox1.value[0]]\n",
    "    temp = temp[temp[\"matrix\"]==combox2.value[0]]\n",
    "    x = temp[\"st\"]\n",
    "    y = temp[\"val\"]\n",
    "    if len(y)>0:\n",
    "        if np.nanmax(y)<1000:\n",
    "            plt.plot(x,y,'-')\n",
    "        else:\n",
    "            print(s, np.nanmax(y))\n",
    "plt.show()"
   ]
  },
  {
   "cell_type": "code",
   "execution_count": 136,
   "id": "97676b60",
   "metadata": {},
   "outputs": [],
   "source": [
    "site_data = {}\n",
    "max_val = -999\n",
    "for s in sites:\n",
    "    temp = res_df[res_df[\"site\"]==s]\n",
    "    \n",
    "    vals = temp[temp[\"component\"]==combox1.value[0]]\n",
    "    vals = vals[vals[\"matrix\"]==combox2.value[0]]\n",
    "    \n",
    "#     print(nitric_acid_air[\"val\"].mean(skipna=True))\n",
    "    \n",
    "    site_data[s] ={\n",
    "        \"lat\": ebas.site_infor[s][\"lat\"],\n",
    "        \"lon\": ebas.site_infor[s][\"lon\"],\n",
    "        \"name\": ebas.site_infor[s][\"name\"],\n",
    "        \"vals\": vals[\"val\"].mean(skipna=True),\n",
    "    }\n",
    "    if vals[\"val\"].mean(skipna=True) > max_val:\n",
    "        max_val = vals[\"val\"].mean(skipna=True)"
   ]
  },
  {
   "cell_type": "code",
   "execution_count": 138,
   "id": "c7ee071d",
   "metadata": {},
   "outputs": [
    {
     "data": {
      "text/html": [
       "<div style=\"width:100%;\"><div style=\"position:relative;width:100%;height:0;padding-bottom:60%;\"><span style=\"color:#565656\">Make this Notebook Trusted to load map: File -> Trust Notebook</span><iframe src=\"about:blank\" style=\"position:absolute;width:100%;height:100%;left:0;top:0;border:none !important;\" data-html=%3C%21DOCTYPE%20html%3E%0A%3Chead%3E%20%20%20%20%0A%20%20%20%20%3Cmeta%20http-equiv%3D%22content-type%22%20content%3D%22text/html%3B%20charset%3DUTF-8%22%20/%3E%0A%20%20%20%20%0A%20%20%20%20%20%20%20%20%3Cscript%3E%0A%20%20%20%20%20%20%20%20%20%20%20%20L_NO_TOUCH%20%3D%20false%3B%0A%20%20%20%20%20%20%20%20%20%20%20%20L_DISABLE_3D%20%3D%20false%3B%0A%20%20%20%20%20%20%20%20%3C/script%3E%0A%20%20%20%20%0A%20%20%20%20%3Cstyle%3Ehtml%2C%20body%20%7Bwidth%3A%20100%25%3Bheight%3A%20100%25%3Bmargin%3A%200%3Bpadding%3A%200%3B%7D%3C/style%3E%0A%20%20%20%20%3Cstyle%3E%23map%20%7Bposition%3Aabsolute%3Btop%3A0%3Bbottom%3A0%3Bright%3A0%3Bleft%3A0%3B%7D%3C/style%3E%0A%20%20%20%20%3Cscript%20src%3D%22https%3A//cdn.jsdelivr.net/npm/leaflet%401.6.0/dist/leaflet.js%22%3E%3C/script%3E%0A%20%20%20%20%3Cscript%20src%3D%22https%3A//code.jquery.com/jquery-1.12.4.min.js%22%3E%3C/script%3E%0A%20%20%20%20%3Cscript%20src%3D%22https%3A//maxcdn.bootstrapcdn.com/bootstrap/3.2.0/js/bootstrap.min.js%22%3E%3C/script%3E%0A%20%20%20%20%3Cscript%20src%3D%22https%3A//cdnjs.cloudflare.com/ajax/libs/Leaflet.awesome-markers/2.0.2/leaflet.awesome-markers.js%22%3E%3C/script%3E%0A%20%20%20%20%3Clink%20rel%3D%22stylesheet%22%20href%3D%22https%3A//cdn.jsdelivr.net/npm/leaflet%401.6.0/dist/leaflet.css%22/%3E%0A%20%20%20%20%3Clink%20rel%3D%22stylesheet%22%20href%3D%22https%3A//maxcdn.bootstrapcdn.com/bootstrap/3.2.0/css/bootstrap.min.css%22/%3E%0A%20%20%20%20%3Clink%20rel%3D%22stylesheet%22%20href%3D%22https%3A//maxcdn.bootstrapcdn.com/bootstrap/3.2.0/css/bootstrap-theme.min.css%22/%3E%0A%20%20%20%20%3Clink%20rel%3D%22stylesheet%22%20href%3D%22https%3A//maxcdn.bootstrapcdn.com/font-awesome/4.6.3/css/font-awesome.min.css%22/%3E%0A%20%20%20%20%3Clink%20rel%3D%22stylesheet%22%20href%3D%22https%3A//cdnjs.cloudflare.com/ajax/libs/Leaflet.awesome-markers/2.0.2/leaflet.awesome-markers.css%22/%3E%0A%20%20%20%20%3Clink%20rel%3D%22stylesheet%22%20href%3D%22https%3A//cdn.jsdelivr.net/gh/python-visualization/folium/folium/templates/leaflet.awesome.rotate.min.css%22/%3E%0A%20%20%20%20%0A%20%20%20%20%20%20%20%20%20%20%20%20%3Cmeta%20name%3D%22viewport%22%20content%3D%22width%3Ddevice-width%2C%0A%20%20%20%20%20%20%20%20%20%20%20%20%20%20%20%20initial-scale%3D1.0%2C%20maximum-scale%3D1.0%2C%20user-scalable%3Dno%22%20/%3E%0A%20%20%20%20%20%20%20%20%20%20%20%20%3Cstyle%3E%0A%20%20%20%20%20%20%20%20%20%20%20%20%20%20%20%20%23map_12794c6b4d7d4e96bc0e04395654816c%20%7B%0A%20%20%20%20%20%20%20%20%20%20%20%20%20%20%20%20%20%20%20%20position%3A%20relative%3B%0A%20%20%20%20%20%20%20%20%20%20%20%20%20%20%20%20%20%20%20%20width%3A%20100.0%25%3B%0A%20%20%20%20%20%20%20%20%20%20%20%20%20%20%20%20%20%20%20%20height%3A%20100.0%25%3B%0A%20%20%20%20%20%20%20%20%20%20%20%20%20%20%20%20%20%20%20%20left%3A%200.0%25%3B%0A%20%20%20%20%20%20%20%20%20%20%20%20%20%20%20%20%20%20%20%20top%3A%200.0%25%3B%0A%20%20%20%20%20%20%20%20%20%20%20%20%20%20%20%20%7D%0A%20%20%20%20%20%20%20%20%20%20%20%20%3C/style%3E%0A%20%20%20%20%20%20%20%20%0A%20%20%20%20%3Cscript%20src%3D%22https%3A//cdnjs.cloudflare.com/ajax/libs/d3/3.5.5/d3.min.js%22%3E%3C/script%3E%0A%3C/head%3E%0A%3Cbody%3E%20%20%20%20%0A%20%20%20%20%0A%20%20%20%20%20%20%20%20%20%20%20%20%3Cdiv%20class%3D%22folium-map%22%20id%3D%22map_12794c6b4d7d4e96bc0e04395654816c%22%20%3E%3C/div%3E%0A%20%20%20%20%20%20%20%20%0A%3C/body%3E%0A%3Cscript%3E%20%20%20%20%0A%20%20%20%20%0A%20%20%20%20%20%20%20%20%20%20%20%20var%20map_12794c6b4d7d4e96bc0e04395654816c%20%3D%20L.map%28%0A%20%20%20%20%20%20%20%20%20%20%20%20%20%20%20%20%22map_12794c6b4d7d4e96bc0e04395654816c%22%2C%0A%20%20%20%20%20%20%20%20%20%20%20%20%20%20%20%20%7B%0A%20%20%20%20%20%20%20%20%20%20%20%20%20%20%20%20%20%20%20%20center%3A%20%5B55.0%2C%200.0%5D%2C%0A%20%20%20%20%20%20%20%20%20%20%20%20%20%20%20%20%20%20%20%20crs%3A%20L.CRS.EPSG3857%2C%0A%20%20%20%20%20%20%20%20%20%20%20%20%20%20%20%20%20%20%20%20zoom%3A%203%2C%0A%20%20%20%20%20%20%20%20%20%20%20%20%20%20%20%20%20%20%20%20zoomControl%3A%20true%2C%0A%20%20%20%20%20%20%20%20%20%20%20%20%20%20%20%20%20%20%20%20preferCanvas%3A%20false%2C%0A%20%20%20%20%20%20%20%20%20%20%20%20%20%20%20%20%20%20%20%20color%3A%20%22grey%22%2C%0A%20%20%20%20%20%20%20%20%20%20%20%20%20%20%20%20%7D%0A%20%20%20%20%20%20%20%20%20%20%20%20%29%3B%0A%0A%20%20%20%20%20%20%20%20%20%20%20%20%0A%0A%20%20%20%20%20%20%20%20%0A%20%20%20%20%0A%20%20%20%20%20%20%20%20%20%20%20%20var%20tile_layer_42e550097db744298696ffe226918643%20%3D%20L.tileLayer%28%0A%20%20%20%20%20%20%20%20%20%20%20%20%20%20%20%20%22https%3A//%7Bs%7D.tile.openstreetmap.org/%7Bz%7D/%7Bx%7D/%7By%7D.png%22%2C%0A%20%20%20%20%20%20%20%20%20%20%20%20%20%20%20%20%7B%22attribution%22%3A%20%22Data%20by%20%5Cu0026copy%3B%20%5Cu003ca%20href%3D%5C%22http%3A//openstreetmap.org%5C%22%5Cu003eOpenStreetMap%5Cu003c/a%5Cu003e%2C%20under%20%5Cu003ca%20href%3D%5C%22http%3A//www.openstreetmap.org/copyright%5C%22%5Cu003eODbL%5Cu003c/a%5Cu003e.%22%2C%20%22detectRetina%22%3A%20false%2C%20%22maxNativeZoom%22%3A%2018%2C%20%22maxZoom%22%3A%2018%2C%20%22minZoom%22%3A%200%2C%20%22noWrap%22%3A%20false%2C%20%22opacity%22%3A%201%2C%20%22subdomains%22%3A%20%22abc%22%2C%20%22tms%22%3A%20false%7D%0A%20%20%20%20%20%20%20%20%20%20%20%20%29.addTo%28map_12794c6b4d7d4e96bc0e04395654816c%29%3B%0A%20%20%20%20%20%20%20%20%0A%20%20%20%20%0A%20%20%20%20%20%20%20%20%20%20%20%20var%20tile_layer_0025d3faf05e46a3949aaeec00e48e30%20%3D%20L.tileLayer%28%0A%20%20%20%20%20%20%20%20%20%20%20%20%20%20%20%20%22https%3A//cartodb-basemaps-%7Bs%7D.global.ssl.fastly.net/light_all/%7Bz%7D/%7Bx%7D/%7By%7D.png%22%2C%0A%20%20%20%20%20%20%20%20%20%20%20%20%20%20%20%20%7B%22attribution%22%3A%20%22%5Cu0026copy%3B%20%5Cu003ca%20href%3D%5C%22http%3A//www.openstreetmap.org/copyright%5C%22%5Cu003eOpenStreetMap%5Cu003c/a%5Cu003e%20contributors%20%5Cu0026copy%3B%20%5Cu003ca%20href%3D%5C%22http%3A//cartodb.com/attributions%5C%22%5Cu003eCartoDB%5Cu003c/a%5Cu003e%2C%20CartoDB%20%5Cu003ca%20href%20%3D%5C%22http%3A//cartodb.com/attributions%5C%22%5Cu003eattributions%5Cu003c/a%5Cu003e%22%2C%20%22detectRetina%22%3A%20false%2C%20%22maxNativeZoom%22%3A%2018%2C%20%22maxZoom%22%3A%2018%2C%20%22minZoom%22%3A%200%2C%20%22noWrap%22%3A%20false%2C%20%22opacity%22%3A%201%2C%20%22subdomains%22%3A%20%22abc%22%2C%20%22tms%22%3A%20false%7D%0A%20%20%20%20%20%20%20%20%20%20%20%20%29.addTo%28map_12794c6b4d7d4e96bc0e04395654816c%29%3B%0A%20%20%20%20%20%20%20%20%0A%20%20%20%20%0A%20%20%20%20var%20color_map_f40c7243cfe44b3f810672845d7ade23%20%3D%20%7B%7D%3B%0A%0A%20%20%20%20%0A%20%20%20%20color_map_f40c7243cfe44b3f810672845d7ade23.color%20%3D%20d3.scale.threshold%28%29%0A%20%20%20%20%20%20%20%20%20%20%20%20%20%20.domain%28%5B0.0%2C%200.0016087699478276667%2C%200.0032175398956553335%2C%200.0048263098434830004%2C%200.006435079791310667%2C%200.008043849739138334%2C%200.009652619686966001%2C%200.011261389634793667%2C%200.012870159582621334%2C%200.014478929530449%2C%200.01608769947827667%2C%200.017696469426104332%2C%200.019305239373932002%2C%200.020914009321759665%2C%200.022522779269587335%2C%200.024131549217414998%2C%200.025740319165242668%2C%200.027349089113070334%2C%200.028957859060898%2C%200.030566629008725667%2C%200.03217539895655334%2C%200.033784168904381004%2C%200.035392938852208664%2C%200.03700170880003633%2C%200.038610478747864004%2C%200.04021924869569167%2C%200.04182801864351933%2C%200.043436788591347%2C%200.04504555853917467%2C%200.046654328487002336%2C%200.048263098434829996%2C%200.04987186838265767%2C%200.051480638330485336%2C%200.053089408278313%2C%200.05469817822614067%2C%200.056306948173968335%2C%200.057915718121796%2C%200.05952448806962367%2C%200.061133258017451335%2C%200.062742027965279%2C%200.06435079791310667%2C%200.06595956786093433%2C%200.06756833780876201%2C%200.06917710775658967%2C%200.07078587770441733%2C%200.072394647652245%2C%200.07400341760007266%2C%200.07561218754790035%2C%200.07722095749572801%2C%200.07882972744355567%2C%200.08043849739138334%2C%200.082047267339211%2C%200.08365603728703866%2C%200.08526480723486633%2C%200.086873577182694%2C%200.08848234713052167%2C%200.09009111707834934%2C%200.091699887026177%2C%200.09330865697400467%2C%200.09491742692183233%2C%200.09652619686965999%2C%200.09813496681748768%2C%200.09974373676531534%2C%200.101352506713143%2C%200.10296127666097067%2C%200.10457004660879833%2C%200.106178816556626%2C%200.10778758650445366%2C%200.10939635645228134%2C%200.11100512640010901%2C%200.11261389634793667%2C%200.11422266629576433%2C%200.115831436243592%2C%200.11744020619141966%2C%200.11904897613924734%2C%200.12065774608707501%2C%200.12226651603490267%2C%200.12387528598273034%2C%200.125484055930558%2C%200.12709282587838566%2C%200.12870159582621335%2C%200.130310365774041%2C%200.13191913572186867%2C%200.13352790566969633%2C%200.13513667561752402%2C%200.13674544556535168%2C%200.13835421551317933%2C%200.139962985461007%2C%200.14157175540883465%2C%200.14318052535666234%2C%200.14478929530449%2C%200.14639806525231766%2C%200.14800683520014532%2C%200.149615605147973%2C%200.1512243750958007%2C%200.15283314504362835%2C%200.15444191499145601%2C%200.15605068493928367%2C%200.15765945488711133%2C%200.159268224834939%2C%200.16087699478276668%2C%200.16248576473059434%2C%200.164094534678422%2C%200.16570330462624966%2C%200.16731207457407732%2C%200.168920844521905%2C%200.17052961446973267%2C%200.17213838441756035%2C%200.173747154365388%2C%200.17535592431321567%2C%200.17696469426104333%2C%200.17857346420887102%2C%200.18018223415669868%2C%200.18179100410452634%2C%200.183399774052354%2C%200.18500854400018166%2C%200.18661731394800934%2C%200.188226083895837%2C%200.18983485384366466%2C%200.19144362379149232%2C%200.19305239373931998%2C%200.1946611636871477%2C%200.19626993363497536%2C%200.19787870358280302%2C%200.19948747353063068%2C%200.20109624347845834%2C%200.202705013426286%2C%200.20431378337411368%2C%200.20592255332194134%2C%200.207531323269769%2C%200.20914009321759666%2C%200.21074886316542432%2C%200.212357633113252%2C%200.21396640306107967%2C%200.21557517300890733%2C%200.217183942956735%2C%200.21879271290456268%2C%200.22040148285239036%2C%200.22201025280021802%2C%200.22361902274804568%2C%200.22522779269587334%2C%200.226836562643701%2C%200.22844533259152866%2C%200.23005410253935635%2C%200.231662872487184%2C%200.23327164243501167%2C%200.23488041238283933%2C%200.23648918233066699%2C%200.23809795227849467%2C%200.23970672222632233%2C%200.24131549217415002%2C%200.24292426212197768%2C%200.24453303206980534%2C%200.246141802017633%2C%200.2477505719654607%2C%200.24935934191328835%2C%200.250968111861116%2C%200.25257688180894367%2C%200.2541856517567713%2C%200.255794421704599%2C%200.2574031916524267%2C%200.25901196160025436%2C%200.260620731548082%2C%200.2622295014959097%2C%200.26383827144373734%2C%200.265447041391565%2C%200.26705581133939266%2C%200.26866458128722037%2C%200.27027335123504803%2C%200.2718821211828757%2C%200.27349089113070335%2C%200.275099661078531%2C%200.27670843102635867%2C%200.27831720097418633%2C%200.279925970922014%2C%200.28153474086984165%2C%200.2831435108176693%2C%200.28475228076549697%2C%200.2863610507133247%2C%200.28796982066115234%2C%200.28957859060898%2C%200.29118736055680766%2C%200.2927961305046353%2C%200.294404900452463%2C%200.29601367040029064%2C%200.29762244034811836%2C%200.299231210295946%2C%200.3008399802437737%2C%200.3024487501916014%2C%200.30405752013942905%2C%200.3056662900872567%2C%200.30727506003508437%2C%200.30888382998291203%2C%200.3104925999307397%2C%200.31210136987856735%2C%200.313710139826395%2C%200.31531890977422267%2C%200.3169276797220503%2C%200.318536449669878%2C%200.3201452196177057%2C%200.32175398956553336%2C%200.323362759513361%2C%200.3249715294611887%2C%200.32658029940901634%2C%200.328189069356844%2C%200.32979783930467166%2C%200.3314066092524993%2C%200.333015379200327%2C%200.33462414914815464%2C%200.3362329190959823%2C%200.33784168904381%2C%200.33945045899163767%2C%200.34105922893946533%2C%200.342667998887293%2C%200.3442767688351207%2C%200.34588553878294837%2C%200.347494308730776%2C%200.3491030786786037%2C%200.35071184862643134%2C%200.352320618574259%2C%200.35392938852208666%2C%200.3555381584699144%2C%200.35714692841774204%2C%200.3587556983655697%2C%200.36036446831339736%2C%200.361973238261225%2C%200.3635820082090527%2C%200.36519077815688034%2C%200.366799548104708%2C%200.36840831805253565%2C%200.3700170880003633%2C%200.37162585794819103%2C%200.3732346278960187%2C%200.37484339784384635%2C%200.376452167791674%2C%200.37806093773950167%2C%200.3796697076873293%2C%200.381278477635157%2C%200.38288724758298465%2C%200.3844960175308123%2C%200.38610478747863997%2C%200.3877135574264676%2C%200.3893223273742954%2C%200.39093109732212306%2C%200.3925398672699507%2C%200.3941486372177784%2C%200.39575740716560603%2C%200.3973661771134337%2C%200.39897494706126135%2C%200.400583717009089%2C%200.4021924869569167%2C%200.40380125690474433%2C%200.405410026852572%2C%200.4070187968003997%2C%200.40862756674822737%2C%200.410236336696055%2C%200.4118451066438827%2C%200.41345387659171035%2C%200.415062646539538%2C%200.41667141648736566%2C%200.4182801864351933%2C%200.419888956383021%2C%200.42149772633084864%2C%200.4231064962786763%2C%200.424715266226504%2C%200.4263240361743317%2C%200.42793280612215934%2C%200.429541576069987%2C%200.43115034601781466%2C%200.4327591159656423%2C%200.43436788591347%2C%200.4359766558612977%2C%200.43758542580912535%2C%200.439194195756953%2C%200.4408029657047807%2C%200.4424117356526084%2C%200.44402050560043604%2C%200.4456292755482637%2C%200.44723804549609136%2C%200.448846815443919%2C%200.4504555853917467%2C%200.45206435533957434%2C%200.453673125287402%2C%200.45528189523522966%2C%200.4568906651830573%2C%200.45849943513088504%2C%200.4601082050787127%2C%200.46171697502654035%2C%200.463325744974368%2C%200.4649345149221957%2C%200.46654328487002333%2C%200.468152054817851%2C%200.46976082476567865%2C%200.4713695947135063%2C%200.47297836466133397%2C%200.47458713460916163%2C%200.47619590455698935%2C%200.477804674504817%2C%200.47941344445264467%2C%200.4810222144004724%2C%200.48263098434830004%2C%200.4842397542961277%2C%200.48584852424395536%2C%200.487457294191783%2C%200.4890660641396107%2C%200.49067483408743834%2C%200.492283604035266%2C%200.4938923739830937%2C%200.4955011439309214%2C%200.49710991387874903%2C%200.4987186838265767%2C%200.5003274537744044%2C%200.501936223722232%2C%200.5035449936700597%2C%200.5051537636178873%2C%200.506762533565715%2C%200.5083713035135426%2C%200.5099800734613703%2C%200.511588843409198%2C%200.5131976133570257%2C%200.5148063833048534%2C%200.5164151532526811%2C%200.5180239232005087%2C%200.5196326931483364%2C%200.521241463096164%2C%200.5228502330439917%2C%200.5244590029918194%2C%200.526067772939647%2C%200.5276765428874747%2C%200.5292853128353023%2C%200.53089408278313%2C%200.5325028527309577%2C%200.5341116226787853%2C%200.5357203926266131%2C%200.5373291625744407%2C%200.5389379325222684%2C%200.5405467024700961%2C%200.5421554724179237%2C%200.5437642423657514%2C%200.545373012313579%2C%200.5469817822614067%2C%200.5485905522092344%2C%200.550199322157062%2C%200.5518080921048897%2C%200.5534168620527173%2C%200.555025632000545%2C%200.5566344019483727%2C%200.5582431718962003%2C%200.559851941844028%2C%200.5614607117918556%2C%200.5630694817396833%2C%200.564678251687511%2C%200.5662870216353386%2C%200.5678957915831663%2C%200.5695045615309939%2C%200.5711133314788217%2C%200.5727221014266494%2C%200.574330871374477%2C%200.5759396413223047%2C%200.5775484112701323%2C%200.57915718121796%2C%200.5807659511657877%2C%200.5823747211136153%2C%200.583983491061443%2C%200.5855922610092706%2C%200.5872010309570983%2C%200.588809800904926%2C%200.5904185708527536%2C%200.5920273408005813%2C%200.5936361107484089%2C%200.5952448806962367%2C%200.5968536506440644%2C%200.598462420591892%2C%200.6000711905397197%2C%200.6016799604875473%2C%200.603288730435375%2C%200.6048975003832028%2C%200.6065062703310304%2C%200.6081150402788581%2C%200.6097238102266858%2C%200.6113325801745134%2C%200.6129413501223411%2C%200.6145501200701687%2C%200.6161588900179964%2C%200.6177676599658241%2C%200.6193764299136517%2C%200.6209851998614794%2C%200.622593969809307%2C%200.6242027397571347%2C%200.6258115097049624%2C%200.62742027965279%2C%200.6290290496006177%2C%200.6306378195484453%2C%200.632246589496273%2C%200.6338553594441007%2C%200.6354641293919283%2C%200.637072899339756%2C%200.6386816692875836%2C%200.6402904392354114%2C%200.6418992091832391%2C%200.6435079791310667%2C%200.6451167490788944%2C%200.646725519026722%2C%200.6483342889745497%2C%200.6499430589223774%2C%200.651551828870205%2C%200.6531605988180327%2C%200.6547693687658603%2C%200.656378138713688%2C%200.6579869086615157%2C%200.6595956786093433%2C%200.661204448557171%2C%200.6628132185049986%2C%200.6644219884528263%2C%200.666030758400654%2C%200.6676395283484816%2C%200.6692482982963093%2C%200.6708570682441369%2C%200.6724658381919646%2C%200.6740746081397923%2C%200.67568337808762%2C%200.6772921480354477%2C%200.6789009179832753%2C%200.680509687931103%2C%200.6821184578789307%2C%200.6837272278267583%2C%200.685335997774586%2C%200.6869447677224138%2C%200.6885535376702414%2C%200.6901623076180691%2C%200.6917710775658967%2C%200.6933798475137244%2C%200.694988617461552%2C%200.6965973874093797%2C%200.6982061573572074%2C%200.699814927305035%2C%200.7014236972528627%2C%200.7030324672006903%2C%200.704641237148518%2C%200.7062500070963457%2C%200.7078587770441733%2C%200.7094675469920011%2C%200.7110763169398288%2C%200.7126850868876564%2C%200.7142938568354841%2C%200.7159026267833117%2C%200.7175113967311394%2C%200.719120166678967%2C%200.7207289366267947%2C%200.7223377065746224%2C%200.72394647652245%2C%200.7255552464702777%2C%200.7271640164181054%2C%200.728772786365933%2C%200.7303815563137607%2C%200.7319903262615883%2C%200.733599096209416%2C%200.7352078661572437%2C%200.7368166361050713%2C%200.738425406052899%2C%200.7400341760007266%2C%200.7416429459485543%2C%200.7432517158963821%2C%200.7448604858442097%2C%200.7464692557920374%2C%200.748078025739865%2C%200.7496867956876927%2C%200.7512955656355204%2C%200.752904335583348%2C%200.7545131055311757%2C%200.7561218754790033%2C%200.757730645426831%2C%200.7593394153746587%2C%200.7609481853224863%2C%200.762556955270314%2C%200.7641657252181416%2C%200.7657744951659693%2C%200.767383265113797%2C%200.7689920350616246%2C%200.7706008050094523%2C%200.7722095749572799%2C%200.7738183449051076%2C%200.7754271148529353%2C%200.7770358848007629%2C%200.7786446547485908%2C%200.7802534246964185%2C%200.7818621946442461%2C%200.7834709645920738%2C%200.7850797345399014%2C%200.7866885044877291%2C%200.7882972744355567%2C%200.7899060443833844%2C%200.7915148143312121%2C%200.7931235842790397%2C%200.7947323542268674%2C%200.796341124174695%2C%200.7979498941225227%2C%200.7995586640703504%2C%200.801167434018178%2C%200.8027762039660057%5D%29%0A%20%20%20%20%20%20%20%20%20%20%20%20%20%20.range%28%5B%27%23ffffb2ff%27%2C%20%27%23ffffb2ff%27%2C%20%27%23ffffb1ff%27%2C%20%27%23fffeb0ff%27%2C%20%27%23fffeb0ff%27%2C%20%27%23fffeafff%27%2C%20%27%23fffdafff%27%2C%20%27%23fffdaeff%27%2C%20%27%23fffcadff%27%2C%20%27%23fffcadff%27%2C%20%27%23fffcacff%27%2C%20%27%23fffbacff%27%2C%20%27%23fffbabff%27%2C%20%27%23fffbaaff%27%2C%20%27%23fffaaaff%27%2C%20%27%23fffaa9ff%27%2C%20%27%23fff9a9ff%27%2C%20%27%23fff9a8ff%27%2C%20%27%23fff9a7ff%27%2C%20%27%23fff8a7ff%27%2C%20%27%23fff8a6ff%27%2C%20%27%23fff7a6ff%27%2C%20%27%23fff7a5ff%27%2C%20%27%23fff7a4ff%27%2C%20%27%23fff6a4ff%27%2C%20%27%23fff6a3ff%27%2C%20%27%23fff6a3ff%27%2C%20%27%23fff5a2ff%27%2C%20%27%23fff5a1ff%27%2C%20%27%23fff4a1ff%27%2C%20%27%23fff4a0ff%27%2C%20%27%23fff49fff%27%2C%20%27%23fff39fff%27%2C%20%27%23fff39eff%27%2C%20%27%23fff39eff%27%2C%20%27%23fff29dff%27%2C%20%27%23fff29cff%27%2C%20%27%23fff19cff%27%2C%20%27%23fff19bff%27%2C%20%27%23fff19bff%27%2C%20%27%23fff09aff%27%2C%20%27%23fff099ff%27%2C%20%27%23ffef99ff%27%2C%20%27%23ffef98ff%27%2C%20%27%23ffef98ff%27%2C%20%27%23ffee97ff%27%2C%20%27%23ffee96ff%27%2C%20%27%23ffee96ff%27%2C%20%27%23ffed95ff%27%2C%20%27%23ffed95ff%27%2C%20%27%23ffec94ff%27%2C%20%27%23ffec93ff%27%2C%20%27%23ffec93ff%27%2C%20%27%23ffeb92ff%27%2C%20%27%23ffeb92ff%27%2C%20%27%23ffea91ff%27%2C%20%27%23ffea90ff%27%2C%20%27%23ffea90ff%27%2C%20%27%23ffe98fff%27%2C%20%27%23ffe98fff%27%2C%20%27%23ffe98eff%27%2C%20%27%23ffe88dff%27%2C%20%27%23ffe88dff%27%2C%20%27%23ffe78cff%27%2C%20%27%23ffe78cff%27%2C%20%27%23ffe78bff%27%2C%20%27%23ffe68aff%27%2C%20%27%23ffe68aff%27%2C%20%27%23ffe689ff%27%2C%20%27%23ffe589ff%27%2C%20%27%23ffe588ff%27%2C%20%27%23ffe487ff%27%2C%20%27%23ffe487ff%27%2C%20%27%23ffe486ff%27%2C%20%27%23ffe386ff%27%2C%20%27%23ffe385ff%27%2C%20%27%23ffe284ff%27%2C%20%27%23ffe284ff%27%2C%20%27%23ffe283ff%27%2C%20%27%23ffe183ff%27%2C%20%27%23ffe182ff%27%2C%20%27%23ffe181ff%27%2C%20%27%23ffe081ff%27%2C%20%27%23ffe080ff%27%2C%20%27%23ffdf7fff%27%2C%20%27%23ffdf7fff%27%2C%20%27%23ffdf7eff%27%2C%20%27%23ffde7eff%27%2C%20%27%23ffde7dff%27%2C%20%27%23ffdd7cff%27%2C%20%27%23ffdd7cff%27%2C%20%27%23ffdd7bff%27%2C%20%27%23ffdc7bff%27%2C%20%27%23ffdc7aff%27%2C%20%27%23ffdc79ff%27%2C%20%27%23ffdb79ff%27%2C%20%27%23ffdb78ff%27%2C%20%27%23ffda78ff%27%2C%20%27%23ffda77ff%27%2C%20%27%23ffda76ff%27%2C%20%27%23fed976ff%27%2C%20%27%23fed975ff%27%2C%20%27%23fed875ff%27%2C%20%27%23fed875ff%27%2C%20%27%23fed874ff%27%2C%20%27%23fed774ff%27%2C%20%27%23fed773ff%27%2C%20%27%23fed773ff%27%2C%20%27%23fed672ff%27%2C%20%27%23fed672ff%27%2C%20%27%23fed572ff%27%2C%20%27%23fed571ff%27%2C%20%27%23fed571ff%27%2C%20%27%23fed470ff%27%2C%20%27%23fed470ff%27%2C%20%27%23fed370ff%27%2C%20%27%23fed36fff%27%2C%20%27%23fed36fff%27%2C%20%27%23fed26eff%27%2C%20%27%23fed26eff%27%2C%20%27%23fed16dff%27%2C%20%27%23fed16dff%27%2C%20%27%23fed16dff%27%2C%20%27%23fed06cff%27%2C%20%27%23fed06cff%27%2C%20%27%23fecf6bff%27%2C%20%27%23fecf6bff%27%2C%20%27%23fecf6aff%27%2C%20%27%23fece6aff%27%2C%20%27%23fece6aff%27%2C%20%27%23fece69ff%27%2C%20%27%23fecd69ff%27%2C%20%27%23fecd68ff%27%2C%20%27%23fecc68ff%27%2C%20%27%23fecc68ff%27%2C%20%27%23fecc67ff%27%2C%20%27%23fecb67ff%27%2C%20%27%23fecb66ff%27%2C%20%27%23feca66ff%27%2C%20%27%23feca65ff%27%2C%20%27%23feca65ff%27%2C%20%27%23fec965ff%27%2C%20%27%23fec964ff%27%2C%20%27%23fec864ff%27%2C%20%27%23fec863ff%27%2C%20%27%23fec863ff%27%2C%20%27%23fec762ff%27%2C%20%27%23fec762ff%27%2C%20%27%23fec662ff%27%2C%20%27%23fec661ff%27%2C%20%27%23fec661ff%27%2C%20%27%23fec560ff%27%2C%20%27%23fec560ff%27%2C%20%27%23fec45fff%27%2C%20%27%23fec45fff%27%2C%20%27%23fec45fff%27%2C%20%27%23fec35eff%27%2C%20%27%23fec35eff%27%2C%20%27%23fec35dff%27%2C%20%27%23fec25dff%27%2C%20%27%23fec25dff%27%2C%20%27%23fec15cff%27%2C%20%27%23fec15cff%27%2C%20%27%23fec15bff%27%2C%20%27%23fec05bff%27%2C%20%27%23fec05aff%27%2C%20%27%23febf5aff%27%2C%20%27%23febf5aff%27%2C%20%27%23febf59ff%27%2C%20%27%23febe59ff%27%2C%20%27%23febe58ff%27%2C%20%27%23febd58ff%27%2C%20%27%23febd57ff%27%2C%20%27%23febd57ff%27%2C%20%27%23febc57ff%27%2C%20%27%23febc56ff%27%2C%20%27%23febb56ff%27%2C%20%27%23febb55ff%27%2C%20%27%23febb55ff%27%2C%20%27%23feba55ff%27%2C%20%27%23feba54ff%27%2C%20%27%23feb954ff%27%2C%20%27%23feb953ff%27%2C%20%27%23feb953ff%27%2C%20%27%23feb852ff%27%2C%20%27%23feb852ff%27%2C%20%27%23feb852ff%27%2C%20%27%23feb751ff%27%2C%20%27%23feb751ff%27%2C%20%27%23feb650ff%27%2C%20%27%23feb650ff%27%2C%20%27%23feb64fff%27%2C%20%27%23feb54fff%27%2C%20%27%23feb54fff%27%2C%20%27%23feb44eff%27%2C%20%27%23feb44eff%27%2C%20%27%23feb44dff%27%2C%20%27%23feb34dff%27%2C%20%27%23feb34cff%27%2C%20%27%23feb24cff%27%2C%20%27%23feb24cff%27%2C%20%27%23feb24cff%27%2C%20%27%23feb14bff%27%2C%20%27%23feb14bff%27%2C%20%27%23feb14bff%27%2C%20%27%23feb04bff%27%2C%20%27%23feb04bff%27%2C%20%27%23feaf4bff%27%2C%20%27%23feaf4aff%27%2C%20%27%23feaf4aff%27%2C%20%27%23feae4aff%27%2C%20%27%23feae4aff%27%2C%20%27%23feae4aff%27%2C%20%27%23fead4aff%27%2C%20%27%23fead49ff%27%2C%20%27%23feac49ff%27%2C%20%27%23feac49ff%27%2C%20%27%23feac49ff%27%2C%20%27%23feab49ff%27%2C%20%27%23feab49ff%27%2C%20%27%23feab49ff%27%2C%20%27%23feaa48ff%27%2C%20%27%23feaa48ff%27%2C%20%27%23fea948ff%27%2C%20%27%23fea948ff%27%2C%20%27%23fea948ff%27%2C%20%27%23fea848ff%27%2C%20%27%23fea847ff%27%2C%20%27%23fea847ff%27%2C%20%27%23fea747ff%27%2C%20%27%23fea747ff%27%2C%20%27%23fea747ff%27%2C%20%27%23fea647ff%27%2C%20%27%23fea646ff%27%2C%20%27%23fea546ff%27%2C%20%27%23fea546ff%27%2C%20%27%23fea546ff%27%2C%20%27%23fea446ff%27%2C%20%27%23fea446ff%27%2C%20%27%23fea445ff%27%2C%20%27%23fea345ff%27%2C%20%27%23fea345ff%27%2C%20%27%23fea245ff%27%2C%20%27%23fea245ff%27%2C%20%27%23fea245ff%27%2C%20%27%23fea144ff%27%2C%20%27%23fea144ff%27%2C%20%27%23fea144ff%27%2C%20%27%23fea044ff%27%2C%20%27%23fea044ff%27%2C%20%27%23fe9f44ff%27%2C%20%27%23fe9f44ff%27%2C%20%27%23fe9f43ff%27%2C%20%27%23fe9e43ff%27%2C%20%27%23fe9e43ff%27%2C%20%27%23fe9e43ff%27%2C%20%27%23fe9d43ff%27%2C%20%27%23fe9d43ff%27%2C%20%27%23fe9c42ff%27%2C%20%27%23fe9c42ff%27%2C%20%27%23fe9c42ff%27%2C%20%27%23fe9b42ff%27%2C%20%27%23fe9b42ff%27%2C%20%27%23fe9b42ff%27%2C%20%27%23fe9a41ff%27%2C%20%27%23fe9a41ff%27%2C%20%27%23fe9941ff%27%2C%20%27%23fe9941ff%27%2C%20%27%23fe9941ff%27%2C%20%27%23fe9841ff%27%2C%20%27%23fe9840ff%27%2C%20%27%23fe9840ff%27%2C%20%27%23fe9740ff%27%2C%20%27%23fe9740ff%27%2C%20%27%23fe9740ff%27%2C%20%27%23fe9640ff%27%2C%20%27%23fe9640ff%27%2C%20%27%23fe953fff%27%2C%20%27%23fe953fff%27%2C%20%27%23fe953fff%27%2C%20%27%23fe943fff%27%2C%20%27%23fe943fff%27%2C%20%27%23fe943fff%27%2C%20%27%23fe933eff%27%2C%20%27%23fe933eff%27%2C%20%27%23fe923eff%27%2C%20%27%23fe923eff%27%2C%20%27%23fe923eff%27%2C%20%27%23fe913eff%27%2C%20%27%23fe913dff%27%2C%20%27%23fe913dff%27%2C%20%27%23fe903dff%27%2C%20%27%23fe903dff%27%2C%20%27%23fe8f3dff%27%2C%20%27%23fe8f3dff%27%2C%20%27%23fe8f3cff%27%2C%20%27%23fe8e3cff%27%2C%20%27%23fe8e3cff%27%2C%20%27%23fe8e3cff%27%2C%20%27%23fd8d3cff%27%2C%20%27%23fd8d3cff%27%2C%20%27%23fd8c3bff%27%2C%20%27%23fd8b3bff%27%2C%20%27%23fd8a3bff%27%2C%20%27%23fd893aff%27%2C%20%27%23fd883aff%27%2C%20%27%23fd883aff%27%2C%20%27%23fc873aff%27%2C%20%27%23fc8639ff%27%2C%20%27%23fc8539ff%27%2C%20%27%23fc8439ff%27%2C%20%27%23fc8338ff%27%2C%20%27%23fc8338ff%27%2C%20%27%23fc8238ff%27%2C%20%27%23fc8138ff%27%2C%20%27%23fb8037ff%27%2C%20%27%23fb7f37ff%27%2C%20%27%23fb7f37ff%27%2C%20%27%23fb7e36ff%27%2C%20%27%23fb7d36ff%27%2C%20%27%23fb7c36ff%27%2C%20%27%23fb7b36ff%27%2C%20%27%23fb7a35ff%27%2C%20%27%23fa7a35ff%27%2C%20%27%23fa7935ff%27%2C%20%27%23fa7835ff%27%2C%20%27%23fa7734ff%27%2C%20%27%23fa7634ff%27%2C%20%27%23fa7534ff%27%2C%20%27%23fa7533ff%27%2C%20%27%23f97433ff%27%2C%20%27%23f97333ff%27%2C%20%27%23f97233ff%27%2C%20%27%23f97132ff%27%2C%20%27%23f97132ff%27%2C%20%27%23f97032ff%27%2C%20%27%23f96f31ff%27%2C%20%27%23f96e31ff%27%2C%20%27%23f86d31ff%27%2C%20%27%23f86c31ff%27%2C%20%27%23f86c30ff%27%2C%20%27%23f86b30ff%27%2C%20%27%23f86a30ff%27%2C%20%27%23f8692fff%27%2C%20%27%23f8682fff%27%2C%20%27%23f8672fff%27%2C%20%27%23f7672fff%27%2C%20%27%23f7662eff%27%2C%20%27%23f7652eff%27%2C%20%27%23f7642eff%27%2C%20%27%23f7632dff%27%2C%20%27%23f7622dff%27%2C%20%27%23f7622dff%27%2C%20%27%23f6612dff%27%2C%20%27%23f6602cff%27%2C%20%27%23f65f2cff%27%2C%20%27%23f65e2cff%27%2C%20%27%23f65e2cff%27%2C%20%27%23f65d2bff%27%2C%20%27%23f65c2bff%27%2C%20%27%23f65b2bff%27%2C%20%27%23f55a2aff%27%2C%20%27%23f5592aff%27%2C%20%27%23f5592aff%27%2C%20%27%23f5582aff%27%2C%20%27%23f55729ff%27%2C%20%27%23f55629ff%27%2C%20%27%23f55529ff%27%2C%20%27%23f55428ff%27%2C%20%27%23f45428ff%27%2C%20%27%23f45328ff%27%2C%20%27%23f45228ff%27%2C%20%27%23f45127ff%27%2C%20%27%23f45027ff%27%2C%20%27%23f45027ff%27%2C%20%27%23f44f26ff%27%2C%20%27%23f34e26ff%27%2C%20%27%23f34d26ff%27%2C%20%27%23f34c26ff%27%2C%20%27%23f34b25ff%27%2C%20%27%23f34b25ff%27%2C%20%27%23f34a25ff%27%2C%20%27%23f34924ff%27%2C%20%27%23f34824ff%27%2C%20%27%23f24724ff%27%2C%20%27%23f24624ff%27%2C%20%27%23f24623ff%27%2C%20%27%23f24523ff%27%2C%20%27%23f24423ff%27%2C%20%27%23f24322ff%27%2C%20%27%23f24222ff%27%2C%20%27%23f24122ff%27%2C%20%27%23f14122ff%27%2C%20%27%23f14021ff%27%2C%20%27%23f13f21ff%27%2C%20%27%23f13e21ff%27%2C%20%27%23f13d21ff%27%2C%20%27%23f13d20ff%27%2C%20%27%23f13c20ff%27%2C%20%27%23f03b20ff%27%2C%20%27%23f03a20ff%27%2C%20%27%23f03a20ff%27%2C%20%27%23ef3920ff%27%2C%20%27%23ee3820ff%27%2C%20%27%23ee3820ff%27%2C%20%27%23ed3720ff%27%2C%20%27%23ed3720ff%27%2C%20%27%23ec3620ff%27%2C%20%27%23ec3620ff%27%2C%20%27%23eb3520ff%27%2C%20%27%23eb3420ff%27%2C%20%27%23ea3420ff%27%2C%20%27%23ea3320ff%27%2C%20%27%23e93320ff%27%2C%20%27%23e93221ff%27%2C%20%27%23e83121ff%27%2C%20%27%23e83121ff%27%2C%20%27%23e73021ff%27%2C%20%27%23e73021ff%27%2C%20%27%23e62f21ff%27%2C%20%27%23e62e21ff%27%2C%20%27%23e52e21ff%27%2C%20%27%23e52d21ff%27%2C%20%27%23e42d21ff%27%2C%20%27%23e42c21ff%27%2C%20%27%23e32b21ff%27%2C%20%27%23e32b21ff%27%2C%20%27%23e22a21ff%27%2C%20%27%23e22a21ff%27%2C%20%27%23e12921ff%27%2C%20%27%23e12821ff%27%2C%20%27%23e02822ff%27%2C%20%27%23e02722ff%27%2C%20%27%23df2722ff%27%2C%20%27%23df2622ff%27%2C%20%27%23de2522ff%27%2C%20%27%23de2522ff%27%2C%20%27%23dd2422ff%27%2C%20%27%23dd2422ff%27%2C%20%27%23dc2322ff%27%2C%20%27%23dc2322ff%27%2C%20%27%23db2222ff%27%2C%20%27%23da2122ff%27%2C%20%27%23da2122ff%27%2C%20%27%23d92022ff%27%2C%20%27%23d92022ff%27%2C%20%27%23d81f22ff%27%2C%20%27%23d81e23ff%27%2C%20%27%23d71e23ff%27%2C%20%27%23d71d23ff%27%2C%20%27%23d61d23ff%27%2C%20%27%23d61c23ff%27%2C%20%27%23d51b23ff%27%2C%20%27%23d51b23ff%27%2C%20%27%23d41a23ff%27%2C%20%27%23d41a23ff%27%2C%20%27%23d31923ff%27%2C%20%27%23d31823ff%27%2C%20%27%23d21823ff%27%2C%20%27%23d21723ff%27%2C%20%27%23d11723ff%27%2C%20%27%23d11623ff%27%2C%20%27%23d01523ff%27%2C%20%27%23d01523ff%27%2C%20%27%23cf1424ff%27%2C%20%27%23cf1424ff%27%2C%20%27%23ce1324ff%27%2C%20%27%23ce1224ff%27%2C%20%27%23cd1224ff%27%2C%20%27%23cd1124ff%27%2C%20%27%23cc1124ff%27%2C%20%27%23cc1024ff%27%2C%20%27%23cb1024ff%27%2C%20%27%23cb0f24ff%27%2C%20%27%23ca0e24ff%27%2C%20%27%23ca0e24ff%27%2C%20%27%23c90d24ff%27%2C%20%27%23c90d24ff%27%2C%20%27%23c80c24ff%27%2C%20%27%23c80b24ff%27%2C%20%27%23c70b25ff%27%2C%20%27%23c60a25ff%27%2C%20%27%23c60a25ff%27%2C%20%27%23c50925ff%27%2C%20%27%23c50825ff%27%2C%20%27%23c40825ff%27%2C%20%27%23c40725ff%27%2C%20%27%23c30725ff%27%2C%20%27%23c30625ff%27%2C%20%27%23c20525ff%27%2C%20%27%23c20525ff%27%2C%20%27%23c10425ff%27%2C%20%27%23c10425ff%27%2C%20%27%23c00325ff%27%2C%20%27%23c00225ff%27%2C%20%27%23bf0225ff%27%2C%20%27%23bf0125ff%27%2C%20%27%23be0126ff%27%2C%20%27%23be0026ff%27%2C%20%27%23bd0026ff%27%5D%29%3B%0A%20%20%20%20%0A%0A%20%20%20%20color_map_f40c7243cfe44b3f810672845d7ade23.x%20%3D%20d3.scale.linear%28%29%0A%20%20%20%20%20%20%20%20%20%20%20%20%20%20.domain%28%5B0.0%2C%200.8027762039660057%5D%29%0A%20%20%20%20%20%20%20%20%20%20%20%20%20%20.range%28%5B0%2C%20400%5D%29%3B%0A%0A%20%20%20%20color_map_f40c7243cfe44b3f810672845d7ade23.legend%20%3D%20L.control%28%7Bposition%3A%20%27topright%27%7D%29%3B%0A%20%20%20%20color_map_f40c7243cfe44b3f810672845d7ade23.legend.onAdd%20%3D%20function%20%28map%29%20%7Bvar%20div%20%3D%20L.DomUtil.create%28%27div%27%2C%20%27legend%27%29%3B%20return%20div%7D%3B%0A%20%20%20%20color_map_f40c7243cfe44b3f810672845d7ade23.legend.addTo%28map_12794c6b4d7d4e96bc0e04395654816c%29%3B%0A%0A%20%20%20%20color_map_f40c7243cfe44b3f810672845d7ade23.xAxis%20%3D%20d3.svg.axis%28%29%0A%20%20%20%20%20%20%20%20.scale%28color_map_f40c7243cfe44b3f810672845d7ade23.x%29%0A%20%20%20%20%20%20%20%20.orient%28%22top%22%29%0A%20%20%20%20%20%20%20%20.tickSize%281%29%0A%20%20%20%20%20%20%20%20.tickValues%28%5B0.0%2C%200.16055524079320116%2C%200.3211104815864023%2C%200.48166572237960337%2C%200.6422209631728046%2C%200.8027762039660057%5D%29%3B%0A%0A%20%20%20%20color_map_f40c7243cfe44b3f810672845d7ade23.svg%20%3D%20d3.select%28%22.legend.leaflet-control%22%29.append%28%22svg%22%29%0A%20%20%20%20%20%20%20%20.attr%28%22id%22%2C%20%27legend%27%29%0A%20%20%20%20%20%20%20%20.attr%28%22width%22%2C%20450%29%0A%20%20%20%20%20%20%20%20.attr%28%22height%22%2C%2040%29%3B%0A%0A%20%20%20%20color_map_f40c7243cfe44b3f810672845d7ade23.g%20%3D%20color_map_f40c7243cfe44b3f810672845d7ade23.svg.append%28%22g%22%29%0A%20%20%20%20%20%20%20%20.attr%28%22class%22%2C%20%22key%22%29%0A%20%20%20%20%20%20%20%20.attr%28%22transform%22%2C%20%22translate%2825%2C16%29%22%29%3B%0A%0A%20%20%20%20color_map_f40c7243cfe44b3f810672845d7ade23.g.selectAll%28%22rect%22%29%0A%20%20%20%20%20%20%20%20.data%28color_map_f40c7243cfe44b3f810672845d7ade23.color.range%28%29.map%28function%28d%2C%20i%29%20%7B%0A%20%20%20%20%20%20%20%20%20%20return%20%7B%0A%20%20%20%20%20%20%20%20%20%20%20%20x0%3A%20i%20%3F%20color_map_f40c7243cfe44b3f810672845d7ade23.x%28color_map_f40c7243cfe44b3f810672845d7ade23.color.domain%28%29%5Bi%20-%201%5D%29%20%3A%20color_map_f40c7243cfe44b3f810672845d7ade23.x.range%28%29%5B0%5D%2C%0A%20%20%20%20%20%20%20%20%20%20%20%20x1%3A%20i%20%3C%20color_map_f40c7243cfe44b3f810672845d7ade23.color.domain%28%29.length%20%3F%20color_map_f40c7243cfe44b3f810672845d7ade23.x%28color_map_f40c7243cfe44b3f810672845d7ade23.color.domain%28%29%5Bi%5D%29%20%3A%20color_map_f40c7243cfe44b3f810672845d7ade23.x.range%28%29%5B1%5D%2C%0A%20%20%20%20%20%20%20%20%20%20%20%20z%3A%20d%0A%20%20%20%20%20%20%20%20%20%20%7D%3B%0A%20%20%20%20%20%20%20%20%7D%29%29%0A%20%20%20%20%20%20.enter%28%29.append%28%22rect%22%29%0A%20%20%20%20%20%20%20%20.attr%28%22height%22%2C%2010%29%0A%20%20%20%20%20%20%20%20.attr%28%22x%22%2C%20function%28d%29%20%7B%20return%20d.x0%3B%20%7D%29%0A%20%20%20%20%20%20%20%20.attr%28%22width%22%2C%20function%28d%29%20%7B%20return%20d.x1%20-%20d.x0%3B%20%7D%29%0A%20%20%20%20%20%20%20%20.style%28%22fill%22%2C%20function%28d%29%20%7B%20return%20d.z%3B%20%7D%29%3B%0A%0A%20%20%20%20color_map_f40c7243cfe44b3f810672845d7ade23.g.call%28color_map_f40c7243cfe44b3f810672845d7ade23.xAxis%29.append%28%22text%22%29%0A%20%20%20%20%20%20%20%20.attr%28%22class%22%2C%20%22caption%22%29%0A%20%20%20%20%20%20%20%20.attr%28%22y%22%2C%2021%29%0A%20%20%20%20%20%20%20%20.text%28%27%27%29%3B%0A%20%20%20%20%0A%20%20%20%20%20%20%20%20%20%20%20%20var%20circle_marker_eaef661cdbbe46519521dec55187dc1e%20%3D%20L.circleMarker%28%0A%20%20%20%20%20%20%20%20%20%20%20%20%20%20%20%20%5B40.38444444%2C%2044.260583333%5D%2C%0A%20%20%20%20%20%20%20%20%20%20%20%20%20%20%20%20%7B%22bubblingMouseEvents%22%3A%20true%2C%20%22color%22%3A%20null%2C%20%22dashArray%22%3A%20null%2C%20%22dashOffset%22%3A%20null%2C%20%22fill%22%3A%20true%2C%20%22fillColor%22%3A%20%22%23fec05bff%22%2C%20%22fillOpacity%22%3A%201%2C%20%22fillRule%22%3A%20%22evenodd%22%2C%20%22lineCap%22%3A%20%22round%22%2C%20%22lineJoin%22%3A%20%22round%22%2C%20%22opacity%22%3A%201.0%2C%20%22radius%22%3A%205%2C%20%22stroke%22%3A%20true%2C%20%22weight%22%3A%203%7D%0A%20%20%20%20%20%20%20%20%20%20%20%20%29.addTo%28map_12794c6b4d7d4e96bc0e04395654816c%29%3B%0A%20%20%20%20%20%20%20%20%0A%20%20%20%20%0A%20%20%20%20%20%20%20%20%20%20%20%20circle_marker_eaef661cdbbe46519521dec55187dc1e.bindTooltip%28%0A%20%20%20%20%20%20%20%20%20%20%20%20%20%20%20%20%60%3Cdiv%3E%0A%20%20%20%20%20%20%20%20%20%20%20%20%20%20%20%20%20%20%20%20%20Amberd%3A%20nitrate%20%3D%200.265%0A%20%20%20%20%20%20%20%20%20%20%20%20%20%20%20%20%20%3C/div%3E%60%2C%0A%20%20%20%20%20%20%20%20%20%20%20%20%20%20%20%20%7B%22sticky%22%3A%20true%7D%0A%20%20%20%20%20%20%20%20%20%20%20%20%29%3B%0A%20%20%20%20%20%20%20%20%0A%20%20%20%20%0A%20%20%20%20%20%20%20%20%20%20%20%20var%20circle_marker_5b9aeda9496648ebb79cd8a06e4b0678%20%3D%20L.circleMarker%28%0A%20%20%20%20%20%20%20%20%20%20%20%20%20%20%20%20%5B46.813056%2C%206.944722%5D%2C%0A%20%20%20%20%20%20%20%20%20%20%20%20%20%20%20%20%7B%22bubblingMouseEvents%22%3A%20true%2C%20%22color%22%3A%20null%2C%20%22dashArray%22%3A%20null%2C%20%22dashOffset%22%3A%20null%2C%20%22fill%22%3A%20true%2C%20%22fillColor%22%3A%20%22%23f7642eff%22%2C%20%22fillOpacity%22%3A%201%2C%20%22fillRule%22%3A%20%22evenodd%22%2C%20%22lineCap%22%3A%20%22round%22%2C%20%22lineJoin%22%3A%20%22round%22%2C%20%22opacity%22%3A%201.0%2C%20%22radius%22%3A%205%2C%20%22stroke%22%3A%20true%2C%20%22weight%22%3A%203%7D%0A%20%20%20%20%20%20%20%20%20%20%20%20%29.addTo%28map_12794c6b4d7d4e96bc0e04395654816c%29%3B%0A%20%20%20%20%20%20%20%20%0A%20%20%20%20%0A%20%20%20%20%20%20%20%20%20%20%20%20circle_marker_5b9aeda9496648ebb79cd8a06e4b0678.bindTooltip%28%0A%20%20%20%20%20%20%20%20%20%20%20%20%20%20%20%20%60%3Cdiv%3E%0A%20%20%20%20%20%20%20%20%20%20%20%20%20%20%20%20%20%20%20%20%20Payerne%3A%20nitrate%20%3D%200.562%0A%20%20%20%20%20%20%20%20%20%20%20%20%20%20%20%20%20%3C/div%3E%60%2C%0A%20%20%20%20%20%20%20%20%20%20%20%20%20%20%20%20%7B%22sticky%22%3A%20true%7D%0A%20%20%20%20%20%20%20%20%20%20%20%20%29%3B%0A%20%20%20%20%20%20%20%20%0A%20%20%20%20%0A%20%20%20%20%20%20%20%20%20%20%20%20var%20circle_marker_8f838a388995431483eb6f48d12d72e2%20%3D%20L.circleMarker%28%0A%20%20%20%20%20%20%20%20%20%20%20%20%20%20%20%20%5B47.0675%2C%208.463889%5D%2C%0A%20%20%20%20%20%20%20%20%20%20%20%20%20%20%20%20%7B%22bubblingMouseEvents%22%3A%20true%2C%20%22color%22%3A%20null%2C%20%22dashArray%22%3A%20null%2C%20%22dashOffset%22%3A%20null%2C%20%22fill%22%3A%20true%2C%20%22fillColor%22%3A%20%22%23fea144ff%22%2C%20%22fillOpacity%22%3A%201%2C%20%22fillRule%22%3A%20%22evenodd%22%2C%20%22lineCap%22%3A%20%22round%22%2C%20%22lineJoin%22%3A%20%22round%22%2C%20%22opacity%22%3A%201.0%2C%20%22radius%22%3A%205%2C%20%22stroke%22%3A%20true%2C%20%22weight%22%3A%203%7D%0A%20%20%20%20%20%20%20%20%20%20%20%20%29.addTo%28map_12794c6b4d7d4e96bc0e04395654816c%29%3B%0A%20%20%20%20%20%20%20%20%0A%20%20%20%20%0A%20%20%20%20%20%20%20%20%20%20%20%20circle_marker_8f838a388995431483eb6f48d12d72e2.bindTooltip%28%0A%20%20%20%20%20%20%20%20%20%20%20%20%20%20%20%20%60%3Cdiv%3E%0A%20%20%20%20%20%20%20%20%20%20%20%20%20%20%20%20%20%20%20%20%20Rigi%3A%20nitrate%20%3D%200.395%0A%20%20%20%20%20%20%20%20%20%20%20%20%20%20%20%20%20%3C/div%3E%60%2C%0A%20%20%20%20%20%20%20%20%20%20%20%20%20%20%20%20%7B%22sticky%22%3A%20true%7D%0A%20%20%20%20%20%20%20%20%20%20%20%20%29%3B%0A%20%20%20%20%20%20%20%20%0A%20%20%20%20%0A%20%20%20%20%20%20%20%20%20%20%20%20var%20circle_marker_d93e22db8cc24b898f6d05557ae2ff67%20%3D%20L.circleMarker%28%0A%20%20%20%20%20%20%20%20%20%20%20%20%20%20%20%20%5B47.18961391%2C%208.175433684%5D%2C%0A%20%20%20%20%20%20%20%20%20%20%20%20%20%20%20%20%7B%22bubblingMouseEvents%22%3A%20true%2C%20%22color%22%3A%20null%2C%20%22dashArray%22%3A%20null%2C%20%22dashOffset%22%3A%20null%2C%20%22fill%22%3A%20true%2C%20%22fillColor%22%3A%20%22%23f55729ff%22%2C%20%22fillOpacity%22%3A%201%2C%20%22fillRule%22%3A%20%22evenodd%22%2C%20%22lineCap%22%3A%20%22round%22%2C%20%22lineJoin%22%3A%20%22round%22%2C%20%22opacity%22%3A%201.0%2C%20%22radius%22%3A%205%2C%20%22stroke%22%3A%20true%2C%20%22weight%22%3A%203%7D%0A%20%20%20%20%20%20%20%20%20%20%20%20%29.addTo%28map_12794c6b4d7d4e96bc0e04395654816c%29%3B%0A%20%20%20%20%20%20%20%20%0A%20%20%20%20%0A%20%20%20%20%20%20%20%20%20%20%20%20circle_marker_d93e22db8cc24b898f6d05557ae2ff67.bindTooltip%28%0A%20%20%20%20%20%20%20%20%20%20%20%20%20%20%20%20%60%3Cdiv%3E%0A%20%20%20%20%20%20%20%20%20%20%20%20%20%20%20%20%20%20%20%20%20Berom%C3%BCnster%3A%20nitrate%20%3D%200.587%0A%20%20%20%20%20%20%20%20%20%20%20%20%20%20%20%20%20%3C/div%3E%60%2C%0A%20%20%20%20%20%20%20%20%20%20%20%20%20%20%20%20%7B%22sticky%22%3A%20true%7D%0A%20%20%20%20%20%20%20%20%20%20%20%20%29%3B%0A%20%20%20%20%20%20%20%20%0A%20%20%20%20%0A%20%20%20%20%20%20%20%20%20%20%20%20var%20circle_marker_71162c6cbe0944dfa816000e6e2befdd%20%3D%20L.circleMarker%28%0A%20%20%20%20%20%20%20%20%20%20%20%20%20%20%20%20%5B52.802222%2C%2010.759444%5D%2C%0A%20%20%20%20%20%20%20%20%20%20%20%20%20%20%20%20%7B%22bubblingMouseEvents%22%3A%20true%2C%20%22color%22%3A%20null%2C%20%22dashArray%22%3A%20null%2C%20%22dashOffset%22%3A%20null%2C%20%22fill%22%3A%20true%2C%20%22fillColor%22%3A%20%22%23fa7433ff%22%2C%20%22fillOpacity%22%3A%201%2C%20%22fillRule%22%3A%20%22evenodd%22%2C%20%22lineCap%22%3A%20%22round%22%2C%20%22lineJoin%22%3A%20%22round%22%2C%20%22opacity%22%3A%201.0%2C%20%22radius%22%3A%205%2C%20%22stroke%22%3A%20true%2C%20%22weight%22%3A%203%7D%0A%20%20%20%20%20%20%20%20%20%20%20%20%29.addTo%28map_12794c6b4d7d4e96bc0e04395654816c%29%3B%0A%20%20%20%20%20%20%20%20%0A%20%20%20%20%0A%20%20%20%20%20%20%20%20%20%20%20%20circle_marker_71162c6cbe0944dfa816000e6e2befdd.bindTooltip%28%0A%20%20%20%20%20%20%20%20%20%20%20%20%20%20%20%20%60%3Cdiv%3E%0A%20%20%20%20%20%20%20%20%20%20%20%20%20%20%20%20%20%20%20%20%20Waldhof%3A%20nitrate%20%3D%200.53%0A%20%20%20%20%20%20%20%20%20%20%20%20%20%20%20%20%20%3C/div%3E%60%2C%0A%20%20%20%20%20%20%20%20%20%20%20%20%20%20%20%20%7B%22sticky%22%3A%20true%7D%0A%20%20%20%20%20%20%20%20%20%20%20%20%29%3B%0A%20%20%20%20%20%20%20%20%0A%20%20%20%20%0A%20%20%20%20%20%20%20%20%20%20%20%20var%20circle_marker_a99a207a3f034cde8fa71e3c60719550%20%3D%20L.circleMarker%28%0A%20%20%20%20%20%20%20%20%20%20%20%20%20%20%20%20%5B47.914722%2C%207.908611%5D%2C%0A%20%20%20%20%20%20%20%20%20%20%20%20%20%20%20%20%7B%22bubblingMouseEvents%22%3A%20true%2C%20%22color%22%3A%20null%2C%20%22dashArray%22%3A%20null%2C%20%22dashOffset%22%3A%20null%2C%20%22fill%22%3A%20true%2C%20%22fillColor%22%3A%20%22%23fec15cff%22%2C%20%22fillOpacity%22%3A%201%2C%20%22fillRule%22%3A%20%22evenodd%22%2C%20%22lineCap%22%3A%20%22round%22%2C%20%22lineJoin%22%3A%20%22round%22%2C%20%22opacity%22%3A%201.0%2C%20%22radius%22%3A%205%2C%20%22stroke%22%3A%20true%2C%20%22weight%22%3A%203%7D%0A%20%20%20%20%20%20%20%20%20%20%20%20%29.addTo%28map_12794c6b4d7d4e96bc0e04395654816c%29%3B%0A%20%20%20%20%20%20%20%20%0A%20%20%20%20%0A%20%20%20%20%20%20%20%20%20%20%20%20circle_marker_a99a207a3f034cde8fa71e3c60719550.bindTooltip%28%0A%20%20%20%20%20%20%20%20%20%20%20%20%20%20%20%20%60%3Cdiv%3E%0A%20%20%20%20%20%20%20%20%20%20%20%20%20%20%20%20%20%20%20%20%20Schauinsland%3A%20nitrate%20%3D%200.261%0A%20%20%20%20%20%20%20%20%20%20%20%20%20%20%20%20%20%3C/div%3E%60%2C%0A%20%20%20%20%20%20%20%20%20%20%20%20%20%20%20%20%7B%22sticky%22%3A%20true%7D%0A%20%20%20%20%20%20%20%20%20%20%20%20%29%3B%0A%20%20%20%20%20%20%20%20%0A%20%20%20%20%0A%20%20%20%20%20%20%20%20%20%20%20%20var%20circle_marker_a234eea32dd040178f8e006e1ca5924d%20%3D%20L.circleMarker%28%0A%20%20%20%20%20%20%20%20%20%20%20%20%20%20%20%20%5B53.166667%2C%2013.033333%5D%2C%0A%20%20%20%20%20%20%20%20%20%20%20%20%20%20%20%20%7B%22bubblingMouseEvents%22%3A%20true%2C%20%22color%22%3A%20null%2C%20%22dashArray%22%3A%20null%2C%20%22dashOffset%22%3A%20null%2C%20%22fill%22%3A%20true%2C%20%22fillColor%22%3A%20%22%23fe9b42ff%22%2C%20%22fillOpacity%22%3A%201%2C%20%22fillRule%22%3A%20%22evenodd%22%2C%20%22lineCap%22%3A%20%22round%22%2C%20%22lineJoin%22%3A%20%22round%22%2C%20%22opacity%22%3A%201.0%2C%20%22radius%22%3A%205%2C%20%22stroke%22%3A%20true%2C%20%22weight%22%3A%203%7D%0A%20%20%20%20%20%20%20%20%20%20%20%20%29.addTo%28map_12794c6b4d7d4e96bc0e04395654816c%29%3B%0A%20%20%20%20%20%20%20%20%0A%20%20%20%20%0A%20%20%20%20%20%20%20%20%20%20%20%20circle_marker_a234eea32dd040178f8e006e1ca5924d.bindTooltip%28%0A%20%20%20%20%20%20%20%20%20%20%20%20%20%20%20%20%60%3Cdiv%3E%0A%20%20%20%20%20%20%20%20%20%20%20%20%20%20%20%20%20%20%20%20%20Neuglobsow%3A%20nitrate%20%3D%200.422%0A%20%20%20%20%20%20%20%20%20%20%20%20%20%20%20%20%20%3C/div%3E%60%2C%0A%20%20%20%20%20%20%20%20%20%20%20%20%20%20%20%20%7B%22sticky%22%3A%20true%7D%0A%20%20%20%20%20%20%20%20%20%20%20%20%29%3B%0A%20%20%20%20%20%20%20%20%0A%20%20%20%20%0A%20%20%20%20%20%20%20%20%20%20%20%20var%20circle_marker_de869a0d3af24affb63c023be1bdfa6f%20%3D%20L.circleMarker%28%0A%20%20%20%20%20%20%20%20%20%20%20%20%20%20%20%20%5B81.6%2C%20-16.67%5D%2C%0A%20%20%20%20%20%20%20%20%20%20%20%20%20%20%20%20%7B%22bubblingMouseEvents%22%3A%20true%2C%20%22color%22%3A%20null%2C%20%22dashArray%22%3A%20null%2C%20%22dashOffset%22%3A%20null%2C%20%22fill%22%3A%20true%2C%20%22fillColor%22%3A%20%22%23fffdaeff%22%2C%20%22fillOpacity%22%3A%201%2C%20%22fillRule%22%3A%20%22evenodd%22%2C%20%22lineCap%22%3A%20%22round%22%2C%20%22lineJoin%22%3A%20%22round%22%2C%20%22opacity%22%3A%201.0%2C%20%22radius%22%3A%205%2C%20%22stroke%22%3A%20true%2C%20%22weight%22%3A%203%7D%0A%20%20%20%20%20%20%20%20%20%20%20%20%29.addTo%28map_12794c6b4d7d4e96bc0e04395654816c%29%3B%0A%20%20%20%20%20%20%20%20%0A%20%20%20%20%0A%20%20%20%20%20%20%20%20%20%20%20%20circle_marker_de869a0d3af24affb63c023be1bdfa6f.bindTooltip%28%0A%20%20%20%20%20%20%20%20%20%20%20%20%20%20%20%20%60%3Cdiv%3E%0A%20%20%20%20%20%20%20%20%20%20%20%20%20%20%20%20%20%20%20%20%20Villum%20Research%20Station%2C%20Station%20Nord%3A%20nitrate%20%3D%200.011%0A%20%20%20%20%20%20%20%20%20%20%20%20%20%20%20%20%20%3C/div%3E%60%2C%0A%20%20%20%20%20%20%20%20%20%20%20%20%20%20%20%20%7B%22sticky%22%3A%20true%7D%0A%20%20%20%20%20%20%20%20%20%20%20%20%29%3B%0A%20%20%20%20%20%20%20%20%0A%20%20%20%20%0A%20%20%20%20%20%20%20%20%20%20%20%20var%20circle_marker_22295e270ef9475d8ffc2fe24eee7a03%20%3D%20L.circleMarker%28%0A%20%20%20%20%20%20%20%20%20%20%20%20%20%20%20%20%5B59.5%2C%2025.9%5D%2C%0A%20%20%20%20%20%20%20%20%20%20%20%20%20%20%20%20%7B%22bubblingMouseEvents%22%3A%20true%2C%20%22color%22%3A%20null%2C%20%22dashArray%22%3A%20null%2C%20%22dashOffset%22%3A%20null%2C%20%22fill%22%3A%20true%2C%20%22fillColor%22%3A%20%22%23fec763ff%22%2C%20%22fillOpacity%22%3A%201%2C%20%22fillRule%22%3A%20%22evenodd%22%2C%20%22lineCap%22%3A%20%22round%22%2C%20%22lineJoin%22%3A%20%22round%22%2C%20%22opacity%22%3A%201.0%2C%20%22radius%22%3A%205%2C%20%22stroke%22%3A%20true%2C%20%22weight%22%3A%203%7D%0A%20%20%20%20%20%20%20%20%20%20%20%20%29.addTo%28map_12794c6b4d7d4e96bc0e04395654816c%29%3B%0A%20%20%20%20%20%20%20%20%0A%20%20%20%20%0A%20%20%20%20%20%20%20%20%20%20%20%20circle_marker_22295e270ef9475d8ffc2fe24eee7a03.bindTooltip%28%0A%20%20%20%20%20%20%20%20%20%20%20%20%20%20%20%20%60%3Cdiv%3E%0A%20%20%20%20%20%20%20%20%20%20%20%20%20%20%20%20%20%20%20%20%20Lahemaa%3A%20nitrate%20%3D%200.234%0A%20%20%20%20%20%20%20%20%20%20%20%20%20%20%20%20%20%3C/div%3E%60%2C%0A%20%20%20%20%20%20%20%20%20%20%20%20%20%20%20%20%7B%22sticky%22%3A%20true%7D%0A%20%20%20%20%20%20%20%20%20%20%20%20%29%3B%0A%20%20%20%20%20%20%20%20%0A%20%20%20%20%0A%20%20%20%20%20%20%20%20%20%20%20%20var%20circle_marker_3797df7b592b4f31810a26049830a81d%20%3D%20L.circleMarker%28%0A%20%20%20%20%20%20%20%20%20%20%20%20%20%20%20%20%5B59.779167%2C%2021.377222%5D%2C%0A%20%20%20%20%20%20%20%20%20%20%20%20%20%20%20%20%7B%22bubblingMouseEvents%22%3A%20true%2C%20%22color%22%3A%20null%2C%20%22dashArray%22%3A%20null%2C%20%22dashOffset%22%3A%20null%2C%20%22fill%22%3A%20true%2C%20%22fillColor%22%3A%20%22%23fed26fff%22%2C%20%22fillOpacity%22%3A%201%2C%20%22fillRule%22%3A%20%22evenodd%22%2C%20%22lineCap%22%3A%20%22round%22%2C%20%22lineJoin%22%3A%20%22round%22%2C%20%22opacity%22%3A%201.0%2C%20%22radius%22%3A%205%2C%20%22stroke%22%3A%20true%2C%20%22weight%22%3A%203%7D%0A%20%20%20%20%20%20%20%20%20%20%20%20%29.addTo%28map_12794c6b4d7d4e96bc0e04395654816c%29%3B%0A%20%20%20%20%20%20%20%20%0A%20%20%20%20%0A%20%20%20%20%20%20%20%20%20%20%20%20circle_marker_3797df7b592b4f31810a26049830a81d.bindTooltip%28%0A%20%20%20%20%20%20%20%20%20%20%20%20%20%20%20%20%60%3Cdiv%3E%0A%20%20%20%20%20%20%20%20%20%20%20%20%20%20%20%20%20%20%20%20%20Ut%C3%B6%3A%20nitrate%20%3D%200.189%0A%20%20%20%20%20%20%20%20%20%20%20%20%20%20%20%20%20%3C/div%3E%60%2C%0A%20%20%20%20%20%20%20%20%20%20%20%20%20%20%20%20%7B%22sticky%22%3A%20true%7D%0A%20%20%20%20%20%20%20%20%20%20%20%20%29%3B%0A%20%20%20%20%20%20%20%20%0A%20%20%20%20%0A%20%20%20%20%20%20%20%20%20%20%20%20var%20circle_marker_0945d9f8d99340f29b9f874d017249c5%20%3D%20L.circleMarker%28%0A%20%20%20%20%20%20%20%20%20%20%20%20%20%20%20%20%5B60.53002%2C%2027.66754%5D%2C%0A%20%20%20%20%20%20%20%20%20%20%20%20%20%20%20%20%7B%22bubblingMouseEvents%22%3A%20true%2C%20%22color%22%3A%20null%2C%20%22dashArray%22%3A%20null%2C%20%22dashOffset%22%3A%20null%2C%20%22fill%22%3A%20true%2C%20%22fillColor%22%3A%20%22%23ffe68aff%22%2C%20%22fillOpacity%22%3A%201%2C%20%22fillRule%22%3A%20%22evenodd%22%2C%20%22lineCap%22%3A%20%22round%22%2C%20%22lineJoin%22%3A%20%22round%22%2C%20%22opacity%22%3A%201.0%2C%20%22radius%22%3A%205%2C%20%22stroke%22%3A%20true%2C%20%22weight%22%3A%203%7D%0A%20%20%20%20%20%20%20%20%20%20%20%20%29.addTo%28map_12794c6b4d7d4e96bc0e04395654816c%29%3B%0A%20%20%20%20%20%20%20%20%0A%20%20%20%20%0A%20%20%20%20%20%20%20%20%20%20%20%20circle_marker_0945d9f8d99340f29b9f874d017249c5.bindTooltip%28%0A%20%20%20%20%20%20%20%20%20%20%20%20%20%20%20%20%60%3Cdiv%3E%0A%20%20%20%20%20%20%20%20%20%20%20%20%20%20%20%20%20%20%20%20%20Virolahti%20III%3A%20nitrate%20%3D%200.108%0A%20%20%20%20%20%20%20%20%20%20%20%20%20%20%20%20%20%3C/div%3E%60%2C%0A%20%20%20%20%20%20%20%20%20%20%20%20%20%20%20%20%7B%22sticky%22%3A%20true%7D%0A%20%20%20%20%20%20%20%20%20%20%20%20%29%3B%0A%20%20%20%20%20%20%20%20%0A%20%20%20%20%0A%20%20%20%20%20%20%20%20%20%20%20%20var%20circle_marker_fbd7175dc6e9450580428e3b80069e66%20%3D%20L.circleMarker%28%0A%20%20%20%20%20%20%20%20%20%20%20%20%20%20%20%20%5B66.320278%2C%2029.401667%5D%2C%0A%20%20%20%20%20%20%20%20%20%20%20%20%20%20%20%20%7B%22bubblingMouseEvents%22%3A%20true%2C%20%22color%22%3A%20null%2C%20%22dashArray%22%3A%20null%2C%20%22dashOffset%22%3A%20null%2C%20%22fill%22%3A%20true%2C%20%22fillColor%22%3A%20%22%23fffcadff%22%2C%20%22fillOpacity%22%3A%201%2C%20%22fillRule%22%3A%20%22evenodd%22%2C%20%22lineCap%22%3A%20%22round%22%2C%20%22lineJoin%22%3A%20%22round%22%2C%20%22opacity%22%3A%201.0%2C%20%22radius%22%3A%205%2C%20%22stroke%22%3A%20true%2C%20%22weight%22%3A%203%7D%0A%20%20%20%20%20%20%20%20%20%20%20%20%29.addTo%28map_12794c6b4d7d4e96bc0e04395654816c%29%3B%0A%20%20%20%20%20%20%20%20%0A%20%20%20%20%0A%20%20%20%20%20%20%20%20%20%20%20%20circle_marker_fbd7175dc6e9450580428e3b80069e66.bindTooltip%28%0A%20%20%20%20%20%20%20%20%20%20%20%20%20%20%20%20%60%3Cdiv%3E%0A%20%20%20%20%20%20%20%20%20%20%20%20%20%20%20%20%20%20%20%20%20Oulanka%3A%20nitrate%20%3D%200.013%0A%20%20%20%20%20%20%20%20%20%20%20%20%20%20%20%20%20%3C/div%3E%60%2C%0A%20%20%20%20%20%20%20%20%20%20%20%20%20%20%20%20%7B%22sticky%22%3A%20true%7D%0A%20%20%20%20%20%20%20%20%20%20%20%20%29%3B%0A%20%20%20%20%20%20%20%20%0A%20%20%20%20%0A%20%20%20%20%20%20%20%20%20%20%20%20var%20circle_marker_5793268fc9df4875839ae8f85338ee54%20%3D%20L.circleMarker%28%0A%20%20%20%20%20%20%20%20%20%20%20%20%20%20%20%20%5B68.0%2C%2024.237222222%5D%2C%0A%20%20%20%20%20%20%20%20%20%20%20%20%20%20%20%20%7B%22bubblingMouseEvents%22%3A%20true%2C%20%22color%22%3A%20null%2C%20%22dashArray%22%3A%20null%2C%20%22dashOffset%22%3A%20null%2C%20%22fill%22%3A%20true%2C%20%22fillColor%22%3A%20%22%23fffcacff%22%2C%20%22fillOpacity%22%3A%201%2C%20%22fillRule%22%3A%20%22evenodd%22%2C%20%22lineCap%22%3A%20%22round%22%2C%20%22lineJoin%22%3A%20%22round%22%2C%20%22opacity%22%3A%201.0%2C%20%22radius%22%3A%205%2C%20%22stroke%22%3A%20true%2C%20%22weight%22%3A%203%7D%0A%20%20%20%20%20%20%20%20%20%20%20%20%29.addTo%28map_12794c6b4d7d4e96bc0e04395654816c%29%3B%0A%20%20%20%20%20%20%20%20%0A%20%20%20%20%0A%20%20%20%20%20%20%20%20%20%20%20%20circle_marker_5793268fc9df4875839ae8f85338ee54.bindTooltip%28%0A%20%20%20%20%20%20%20%20%20%20%20%20%20%20%20%20%60%3Cdiv%3E%0A%20%20%20%20%20%20%20%20%20%20%20%20%20%20%20%20%20%20%20%20%20Pallas%20%28Matorova%29%3A%20nitrate%20%3D%200.017%0A%20%20%20%20%20%20%20%20%20%20%20%20%20%20%20%20%20%3C/div%3E%60%2C%0A%20%20%20%20%20%20%20%20%20%20%20%20%20%20%20%20%7B%22sticky%22%3A%20true%7D%0A%20%20%20%20%20%20%20%20%20%20%20%20%29%3B%0A%20%20%20%20%20%20%20%20%0A%20%20%20%20%0A%20%20%20%20%20%20%20%20%20%20%20%20var%20circle_marker_d665038348c74ab7976e89319726a6ab%20%3D%20L.circleMarker%28%0A%20%20%20%20%20%20%20%20%20%20%20%20%20%20%20%20%5B61.85%2C%2024.283333%5D%2C%0A%20%20%20%20%20%20%20%20%20%20%20%20%20%20%20%20%7B%22bubblingMouseEvents%22%3A%20true%2C%20%22color%22%3A%20null%2C%20%22dashArray%22%3A%20null%2C%20%22dashOffset%22%3A%20null%2C%20%22fill%22%3A%20true%2C%20%22fillColor%22%3A%20%22%23fff39fff%22%2C%20%22fillOpacity%22%3A%201%2C%20%22fillRule%22%3A%20%22evenodd%22%2C%20%22lineCap%22%3A%20%22round%22%2C%20%22lineJoin%22%3A%20%22round%22%2C%20%22opacity%22%3A%201.0%2C%20%22radius%22%3A%205%2C%20%22stroke%22%3A%20true%2C%20%22weight%22%3A%203%7D%0A%20%20%20%20%20%20%20%20%20%20%20%20%29.addTo%28map_12794c6b4d7d4e96bc0e04395654816c%29%3B%0A%20%20%20%20%20%20%20%20%0A%20%20%20%20%0A%20%20%20%20%20%20%20%20%20%20%20%20circle_marker_d665038348c74ab7976e89319726a6ab.bindTooltip%28%0A%20%20%20%20%20%20%20%20%20%20%20%20%20%20%20%20%60%3Cdiv%3E%0A%20%20%20%20%20%20%20%20%20%20%20%20%20%20%20%20%20%20%20%20%20Hyyti%C3%A4l%C3%A4%3A%20nitrate%20%3D%200.051%0A%20%20%20%20%20%20%20%20%20%20%20%20%20%20%20%20%20%3C/div%3E%60%2C%0A%20%20%20%20%20%20%20%20%20%20%20%20%20%20%20%20%7B%22sticky%22%3A%20true%7D%0A%20%20%20%20%20%20%20%20%20%20%20%20%29%3B%0A%20%20%20%20%20%20%20%20%0A%20%20%20%20%0A%20%20%20%20%20%20%20%20%20%20%20%20var%20circle_marker_58753c24aaef43b1ae87a2dd18d58971%20%3D%20L.circleMarker%28%0A%20%20%20%20%20%20%20%20%20%20%20%20%20%20%20%20%5B42.936667%2C%200.141944%5D%2C%0A%20%20%20%20%20%20%20%20%20%20%20%20%20%20%20%20%7B%22bubblingMouseEvents%22%3A%20true%2C%20%22color%22%3A%20null%2C%20%22dashArray%22%3A%20null%2C%20%22dashOffset%22%3A%20null%2C%20%22fill%22%3A%20true%2C%20%22fillColor%22%3A%20%22%23ffea91ff%22%2C%20%22fillOpacity%22%3A%201%2C%20%22fillRule%22%3A%20%22evenodd%22%2C%20%22lineCap%22%3A%20%22round%22%2C%20%22lineJoin%22%3A%20%22round%22%2C%20%22opacity%22%3A%201.0%2C%20%22radius%22%3A%205%2C%20%22stroke%22%3A%20true%2C%20%22weight%22%3A%203%7D%0A%20%20%20%20%20%20%20%20%20%20%20%20%29.addTo%28map_12794c6b4d7d4e96bc0e04395654816c%29%3B%0A%20%20%20%20%20%20%20%20%0A%20%20%20%20%0A%20%20%20%20%20%20%20%20%20%20%20%20circle_marker_58753c24aaef43b1ae87a2dd18d58971.bindTooltip%28%0A%20%20%20%20%20%20%20%20%20%20%20%20%20%20%20%20%60%3Cdiv%3E%0A%20%20%20%20%20%20%20%20%20%20%20%20%20%20%20%20%20%20%20%20%20Pic%20du%20Midi%3A%20nitrate%20%3D%200.089%0A%20%20%20%20%20%20%20%20%20%20%20%20%20%20%20%20%20%3C/div%3E%60%2C%0A%20%20%20%20%20%20%20%20%20%20%20%20%20%20%20%20%7B%22sticky%22%3A%20true%7D%0A%20%20%20%20%20%20%20%20%20%20%20%20%29%3B%0A%20%20%20%20%20%20%20%20%0A%20%20%20%20%0A%20%20%20%20%20%20%20%20%20%20%20%20var%20circle_marker_a572f28638874111bd71397b7d70f9b0%20%3D%20L.circleMarker%28%0A%20%20%20%20%20%20%20%20%20%20%20%20%20%20%20%20%5B54.443056%2C%20-7.87%5D%2C%0A%20%20%20%20%20%20%20%20%20%20%20%20%20%20%20%20%7B%22bubblingMouseEvents%22%3A%20true%2C%20%22color%22%3A%20null%2C%20%22dashArray%22%3A%20null%2C%20%22dashOffset%22%3A%20null%2C%20%22fill%22%3A%20true%2C%20%22fillColor%22%3A%20%22%23fec864ff%22%2C%20%22fillOpacity%22%3A%201%2C%20%22fillRule%22%3A%20%22evenodd%22%2C%20%22lineCap%22%3A%20%22round%22%2C%20%22lineJoin%22%3A%20%22round%22%2C%20%22opacity%22%3A%201.0%2C%20%22radius%22%3A%205%2C%20%22stroke%22%3A%20true%2C%20%22weight%22%3A%203%7D%0A%20%20%20%20%20%20%20%20%20%20%20%20%29.addTo%28map_12794c6b4d7d4e96bc0e04395654816c%29%3B%0A%20%20%20%20%20%20%20%20%0A%20%20%20%20%0A%20%20%20%20%20%20%20%20%20%20%20%20circle_marker_a572f28638874111bd71397b7d70f9b0.bindTooltip%28%0A%20%20%20%20%20%20%20%20%20%20%20%20%20%20%20%20%60%3Cdiv%3E%0A%20%20%20%20%20%20%20%20%20%20%20%20%20%20%20%20%20%20%20%20%20Lough%20Navar%3A%20nitrate%20%3D%200.23%0A%20%20%20%20%20%20%20%20%20%20%20%20%20%20%20%20%20%3C/div%3E%60%2C%0A%20%20%20%20%20%20%20%20%20%20%20%20%20%20%20%20%7B%22sticky%22%3A%20true%7D%0A%20%20%20%20%20%20%20%20%20%20%20%20%29%3B%0A%20%20%20%20%20%20%20%20%0A%20%20%20%20%0A%20%20%20%20%20%20%20%20%20%20%20%20var%20circle_marker_b7e429558f154a93967d25924134afd8%20%3D%20L.circleMarker%28%0A%20%20%20%20%20%20%20%20%20%20%20%20%20%20%20%20%5B50.596389%2C%20-3.713056%5D%2C%0A%20%20%20%20%20%20%20%20%20%20%20%20%20%20%20%20%7B%22bubblingMouseEvents%22%3A%20true%2C%20%22color%22%3A%20null%2C%20%22dashArray%22%3A%20null%2C%20%22dashOffset%22%3A%20null%2C%20%22fill%22%3A%20true%2C%20%22fillColor%22%3A%20%22%23fec25cff%22%2C%20%22fillOpacity%22%3A%201%2C%20%22fillRule%22%3A%20%22evenodd%22%2C%20%22lineCap%22%3A%20%22round%22%2C%20%22lineJoin%22%3A%20%22round%22%2C%20%22opacity%22%3A%201.0%2C%20%22radius%22%3A%205%2C%20%22stroke%22%3A%20true%2C%20%22weight%22%3A%203%7D%0A%20%20%20%20%20%20%20%20%20%20%20%20%29.addTo%28map_12794c6b4d7d4e96bc0e04395654816c%29%3B%0A%20%20%20%20%20%20%20%20%0A%20%20%20%20%0A%20%20%20%20%20%20%20%20%20%20%20%20circle_marker_b7e429558f154a93967d25924134afd8.bindTooltip%28%0A%20%20%20%20%20%20%20%20%20%20%20%20%20%20%20%20%60%3Cdiv%3E%0A%20%20%20%20%20%20%20%20%20%20%20%20%20%20%20%20%20%20%20%20%20Yarner%20Wood%3A%20nitrate%20%3D%200.258%0A%20%20%20%20%20%20%20%20%20%20%20%20%20%20%20%20%20%3C/div%3E%60%2C%0A%20%20%20%20%20%20%20%20%20%20%20%20%20%20%20%20%7B%22sticky%22%3A%20true%7D%0A%20%20%20%20%20%20%20%20%20%20%20%20%29%3B%0A%20%20%20%20%20%20%20%20%0A%20%20%20%20%0A%20%20%20%20%20%20%20%20%20%20%20%20var%20circle_marker_85beac2ee1f64cafbe337f14d9955bac%20%3D%20L.circleMarker%28%0A%20%20%20%20%20%20%20%20%20%20%20%20%20%20%20%20%5B54.334444%2C%20-0.8075%5D%2C%0A%20%20%20%20%20%20%20%20%20%20%20%20%20%20%20%20%7B%22bubblingMouseEvents%22%3A%20true%2C%20%22color%22%3A%20null%2C%20%22dashArray%22%3A%20null%2C%20%22dashOffset%22%3A%20null%2C%20%22fill%22%3A%20true%2C%20%22fillColor%22%3A%20%22%23fe8e3cff%22%2C%20%22fillOpacity%22%3A%201%2C%20%22fillRule%22%3A%20%22evenodd%22%2C%20%22lineCap%22%3A%20%22round%22%2C%20%22lineJoin%22%3A%20%22round%22%2C%20%22opacity%22%3A%201.0%2C%20%22radius%22%3A%205%2C%20%22stroke%22%3A%20true%2C%20%22weight%22%3A%203%7D%0A%20%20%20%20%20%20%20%20%20%20%20%20%29.addTo%28map_12794c6b4d7d4e96bc0e04395654816c%29%3B%0A%20%20%20%20%20%20%20%20%0A%20%20%20%20%0A%20%20%20%20%20%20%20%20%20%20%20%20circle_marker_85beac2ee1f64cafbe337f14d9955bac.bindTooltip%28%0A%20%20%20%20%20%20%20%20%20%20%20%20%20%20%20%20%60%3Cdiv%3E%0A%20%20%20%20%20%20%20%20%20%20%20%20%20%20%20%20%20%20%20%20%20High%20Muffles%3A%20nitrate%20%3D%200.478%0A%20%20%20%20%20%20%20%20%20%20%20%20%20%20%20%20%20%3C/div%3E%60%2C%0A%20%20%20%20%20%20%20%20%20%20%20%20%20%20%20%20%7B%22sticky%22%3A%20true%7D%0A%20%20%20%20%20%20%20%20%20%20%20%20%29%3B%0A%20%20%20%20%20%20%20%20%0A%20%20%20%20%0A%20%20%20%20%20%20%20%20%20%20%20%20var%20circle_marker_a06eb2c8fa6a492aac4556ef0c6e3c2e%20%3D%20L.circleMarker%28%0A%20%20%20%20%20%20%20%20%20%20%20%20%20%20%20%20%5B56.907222%2C%20-2.559167%5D%2C%0A%20%20%20%20%20%20%20%20%20%20%20%20%20%20%20%20%7B%22bubblingMouseEvents%22%3A%20true%2C%20%22color%22%3A%20null%2C%20%22dashArray%22%3A%20null%2C%20%22dashOffset%22%3A%20null%2C%20%22fill%22%3A%20true%2C%20%22fillColor%22%3A%20%22%23fec864ff%22%2C%20%22fillOpacity%22%3A%201%2C%20%22fillRule%22%3A%20%22evenodd%22%2C%20%22lineCap%22%3A%20%22round%22%2C%20%22lineJoin%22%3A%20%22round%22%2C%20%22opacity%22%3A%201.0%2C%20%22radius%22%3A%205%2C%20%22stroke%22%3A%20true%2C%20%22weight%22%3A%203%7D%0A%20%20%20%20%20%20%20%20%20%20%20%20%29.addTo%28map_12794c6b4d7d4e96bc0e04395654816c%29%3B%0A%20%20%20%20%20%20%20%20%0A%20%20%20%20%0A%20%20%20%20%20%20%20%20%20%20%20%20circle_marker_a06eb2c8fa6a492aac4556ef0c6e3c2e.bindTooltip%28%0A%20%20%20%20%20%20%20%20%20%20%20%20%20%20%20%20%60%3Cdiv%3E%0A%20%20%20%20%20%20%20%20%20%20%20%20%20%20%20%20%20%20%20%20%20Glen%20Saugh%3A%20nitrate%20%3D%200.23%0A%20%20%20%20%20%20%20%20%20%20%20%20%20%20%20%20%20%3C/div%3E%60%2C%0A%20%20%20%20%20%20%20%20%20%20%20%20%20%20%20%20%7B%22sticky%22%3A%20true%7D%0A%20%20%20%20%20%20%20%20%20%20%20%20%29%3B%0A%20%20%20%20%20%20%20%20%0A%20%20%20%20%0A%20%20%20%20%20%20%20%20%20%20%20%20var%20circle_marker_8b831bc4ae454d16973f81898ba53786%20%3D%20L.circleMarker%28%0A%20%20%20%20%20%20%20%20%20%20%20%20%20%20%20%20%5B46.966667%2C%2019.583333%5D%2C%0A%20%20%20%20%20%20%20%20%20%20%20%20%20%20%20%20%7B%22bubblingMouseEvents%22%3A%20true%2C%20%22color%22%3A%20null%2C%20%22dashArray%22%3A%20null%2C%20%22dashOffset%22%3A%20null%2C%20%22fill%22%3A%20true%2C%20%22fillColor%22%3A%20%22%23fe9740ff%22%2C%20%22fillOpacity%22%3A%201%2C%20%22fillRule%22%3A%20%22evenodd%22%2C%20%22lineCap%22%3A%20%22round%22%2C%20%22lineJoin%22%3A%20%22round%22%2C%20%22opacity%22%3A%201.0%2C%20%22radius%22%3A%205%2C%20%22stroke%22%3A%20true%2C%20%22weight%22%3A%203%7D%0A%20%20%20%20%20%20%20%20%20%20%20%20%29.addTo%28map_12794c6b4d7d4e96bc0e04395654816c%29%3B%0A%20%20%20%20%20%20%20%20%0A%20%20%20%20%0A%20%20%20%20%20%20%20%20%20%20%20%20circle_marker_8b831bc4ae454d16973f81898ba53786.bindTooltip%28%0A%20%20%20%20%20%20%20%20%20%20%20%20%20%20%20%20%60%3Cdiv%3E%0A%20%20%20%20%20%20%20%20%20%20%20%20%20%20%20%20%20%20%20%20%20K-puszta%3A%20nitrate%20%3D%200.439%0A%20%20%20%20%20%20%20%20%20%20%20%20%20%20%20%20%20%3C/div%3E%60%2C%0A%20%20%20%20%20%20%20%20%20%20%20%20%20%20%20%20%7B%22sticky%22%3A%20true%7D%0A%20%20%20%20%20%20%20%20%20%20%20%20%29%3B%0A%20%20%20%20%20%20%20%20%0A%20%20%20%20%0A%20%20%20%20%20%20%20%20%20%20%20%20var%20circle_marker_7ad34b3e1243460fa354aa601243c35f%20%3D%20L.circleMarker%28%0A%20%20%20%20%20%20%20%20%20%20%20%20%20%20%20%20%5B46.91%2C%2016.32%5D%2C%0A%20%20%20%20%20%20%20%20%20%20%20%20%20%20%20%20%7B%22bubblingMouseEvents%22%3A%20true%2C%20%22color%22%3A%20null%2C%20%22dashArray%22%3A%20null%2C%20%22dashOffset%22%3A%20null%2C%20%22fill%22%3A%20true%2C%20%22fillColor%22%3A%20%22%23fec25dff%22%2C%20%22fillOpacity%22%3A%201%2C%20%22fillRule%22%3A%20%22evenodd%22%2C%20%22lineCap%22%3A%20%22round%22%2C%20%22lineJoin%22%3A%20%22round%22%2C%20%22opacity%22%3A%201.0%2C%20%22radius%22%3A%205%2C%20%22stroke%22%3A%20true%2C%20%22weight%22%3A%203%7D%0A%20%20%20%20%20%20%20%20%20%20%20%20%29.addTo%28map_12794c6b4d7d4e96bc0e04395654816c%29%3B%0A%20%20%20%20%20%20%20%20%0A%20%20%20%20%0A%20%20%20%20%20%20%20%20%20%20%20%20circle_marker_7ad34b3e1243460fa354aa601243c35f.bindTooltip%28%0A%20%20%20%20%20%20%20%20%20%20%20%20%20%20%20%20%60%3Cdiv%3E%0A%20%20%20%20%20%20%20%20%20%20%20%20%20%20%20%20%20%20%20%20%20Farkasfa%3A%20nitrate%20%3D%200.255%0A%20%20%20%20%20%20%20%20%20%20%20%20%20%20%20%20%20%3C/div%3E%60%2C%0A%20%20%20%20%20%20%20%20%20%20%20%20%20%20%20%20%7B%22sticky%22%3A%20true%7D%0A%20%20%20%20%20%20%20%20%20%20%20%20%29%3B%0A%20%20%20%20%20%20%20%20%0A%20%20%20%20%0A%20%20%20%20%20%20%20%20%20%20%20%20var%20circle_marker_9b3c2b5bfa8c450e959a37f7d3dfebe5%20%3D%20L.circleMarker%28%0A%20%20%20%20%20%20%20%20%20%20%20%20%20%20%20%20%5B52.868611%2C%20-6.924722%5D%2C%0A%20%20%20%20%20%20%20%20%20%20%20%20%20%20%20%20%7B%22bubblingMouseEvents%22%3A%20true%2C%20%22color%22%3A%20null%2C%20%22dashArray%22%3A%20null%2C%20%22dashOffset%22%3A%20null%2C%20%22fill%22%3A%20true%2C%20%22fillColor%22%3A%20%22%23feb852ff%22%2C%20%22fillOpacity%22%3A%201%2C%20%22fillRule%22%3A%20%22evenodd%22%2C%20%22lineCap%22%3A%20%22round%22%2C%20%22lineJoin%22%3A%20%22round%22%2C%20%22opacity%22%3A%201.0%2C%20%22radius%22%3A%205%2C%20%22stroke%22%3A%20true%2C%20%22weight%22%3A%203%7D%0A%20%20%20%20%20%20%20%20%20%20%20%20%29.addTo%28map_12794c6b4d7d4e96bc0e04395654816c%29%3B%0A%20%20%20%20%20%20%20%20%0A%20%20%20%20%0A%20%20%20%20%20%20%20%20%20%20%20%20circle_marker_9b3c2b5bfa8c450e959a37f7d3dfebe5.bindTooltip%28%0A%20%20%20%20%20%20%20%20%20%20%20%20%20%20%20%20%60%3Cdiv%3E%0A%20%20%20%20%20%20%20%20%20%20%20%20%20%20%20%20%20%20%20%20%20Oak%20Park%3A%20nitrate%20%3D%200.299%0A%20%20%20%20%20%20%20%20%20%20%20%20%20%20%20%20%20%3C/div%3E%60%2C%0A%20%20%20%20%20%20%20%20%20%20%20%20%20%20%20%20%7B%22sticky%22%3A%20true%7D%0A%20%20%20%20%20%20%20%20%20%20%20%20%29%3B%0A%20%20%20%20%20%20%20%20%0A%20%20%20%20%0A%20%20%20%20%20%20%20%20%20%20%20%20var%20circle_marker_8860155c879e4c20b936d93fde9d90b3%20%3D%20L.circleMarker%28%0A%20%20%20%20%20%20%20%20%20%20%20%20%20%20%20%20%5B55.375%2C%20-7.342778%5D%2C%0A%20%20%20%20%20%20%20%20%20%20%20%20%20%20%20%20%7B%22bubblingMouseEvents%22%3A%20true%2C%20%22color%22%3A%20null%2C%20%22dashArray%22%3A%20null%2C%20%22dashOffset%22%3A%20null%2C%20%22fill%22%3A%20true%2C%20%22fillColor%22%3A%20%22%23fece6aff%22%2C%20%22fillOpacity%22%3A%201%2C%20%22fillRule%22%3A%20%22evenodd%22%2C%20%22lineCap%22%3A%20%22round%22%2C%20%22lineJoin%22%3A%20%22round%22%2C%20%22opacity%22%3A%201.0%2C%20%22radius%22%3A%205%2C%20%22stroke%22%3A%20true%2C%20%22weight%22%3A%203%7D%0A%20%20%20%20%20%20%20%20%20%20%20%20%29.addTo%28map_12794c6b4d7d4e96bc0e04395654816c%29%3B%0A%20%20%20%20%20%20%20%20%0A%20%20%20%20%0A%20%20%20%20%20%20%20%20%20%20%20%20circle_marker_8860155c879e4c20b936d93fde9d90b3.bindTooltip%28%0A%20%20%20%20%20%20%20%20%20%20%20%20%20%20%20%20%60%3Cdiv%3E%0A%20%20%20%20%20%20%20%20%20%20%20%20%20%20%20%20%20%20%20%20%20Malin%20Head%3A%20nitrate%20%3D%200.207%0A%20%20%20%20%20%20%20%20%20%20%20%20%20%20%20%20%20%3C/div%3E%60%2C%0A%20%20%20%20%20%20%20%20%20%20%20%20%20%20%20%20%7B%22sticky%22%3A%20true%7D%0A%20%20%20%20%20%20%20%20%20%20%20%20%29%3B%0A%20%20%20%20%20%20%20%20%0A%20%20%20%20%0A%20%20%20%20%20%20%20%20%20%20%20%20var%20circle_marker_9e66132f321e491ab00f94e922126359%20%3D%20L.circleMarker%28%0A%20%20%20%20%20%20%20%20%20%20%20%20%20%20%20%20%5B52.178074%2C%20-6.364524%5D%2C%0A%20%20%20%20%20%20%20%20%20%20%20%20%20%20%20%20%7B%22bubblingMouseEvents%22%3A%20true%2C%20%22color%22%3A%20null%2C%20%22dashArray%22%3A%20null%2C%20%22dashOffset%22%3A%20null%2C%20%22fill%22%3A%20true%2C%20%22fillColor%22%3A%20%22%23fea747ff%22%2C%20%22fillOpacity%22%3A%201%2C%20%22fillRule%22%3A%20%22evenodd%22%2C%20%22lineCap%22%3A%20%22round%22%2C%20%22lineJoin%22%3A%20%22round%22%2C%20%22opacity%22%3A%201.0%2C%20%22radius%22%3A%205%2C%20%22stroke%22%3A%20true%2C%20%22weight%22%3A%203%7D%0A%20%20%20%20%20%20%20%20%20%20%20%20%29.addTo%28map_12794c6b4d7d4e96bc0e04395654816c%29%3B%0A%20%20%20%20%20%20%20%20%0A%20%20%20%20%0A%20%20%20%20%20%20%20%20%20%20%20%20circle_marker_9e66132f321e491ab00f94e922126359.bindTooltip%28%0A%20%20%20%20%20%20%20%20%20%20%20%20%20%20%20%20%60%3Cdiv%3E%0A%20%20%20%20%20%20%20%20%20%20%20%20%20%20%20%20%20%20%20%20%20Carnsore%20Point%3A%20nitrate%20%3D%200.371%0A%20%20%20%20%20%20%20%20%20%20%20%20%20%20%20%20%20%3C/div%3E%60%2C%0A%20%20%20%20%20%20%20%20%20%20%20%20%20%20%20%20%7B%22sticky%22%3A%20true%7D%0A%20%20%20%20%20%20%20%20%20%20%20%20%29%3B%0A%20%20%20%20%20%20%20%20%0A%20%20%20%20%0A%20%20%20%20%20%20%20%20%20%20%20%20var%20circle_marker_8af97839029a462b8ca66a6ada921f01%20%3D%20L.circleMarker%28%0A%20%20%20%20%20%20%20%20%20%20%20%20%20%20%20%20%5B63.4%2C%20-20.283333%5D%2C%0A%20%20%20%20%20%20%20%20%20%20%20%20%20%20%20%20%7B%22bubblingMouseEvents%22%3A%20true%2C%20%22color%22%3A%20null%2C%20%22dashArray%22%3A%20null%2C%20%22dashOffset%22%3A%20null%2C%20%22fill%22%3A%20true%2C%20%22fillColor%22%3A%20%22%23fff39eff%22%2C%20%22fillOpacity%22%3A%201%2C%20%22fillRule%22%3A%20%22evenodd%22%2C%20%22lineCap%22%3A%20%22round%22%2C%20%22lineJoin%22%3A%20%22round%22%2C%20%22opacity%22%3A%201.0%2C%20%22radius%22%3A%205%2C%20%22stroke%22%3A%20true%2C%20%22weight%22%3A%203%7D%0A%20%20%20%20%20%20%20%20%20%20%20%20%29.addTo%28map_12794c6b4d7d4e96bc0e04395654816c%29%3B%0A%20%20%20%20%20%20%20%20%0A%20%20%20%20%0A%20%20%20%20%20%20%20%20%20%20%20%20circle_marker_8af97839029a462b8ca66a6ada921f01.bindTooltip%28%0A%20%20%20%20%20%20%20%20%20%20%20%20%20%20%20%20%60%3Cdiv%3E%0A%20%20%20%20%20%20%20%20%20%20%20%20%20%20%20%20%20%20%20%20%20Storhofdi%3A%20nitrate%20%3D%200.053%0A%20%20%20%20%20%20%20%20%20%20%20%20%20%20%20%20%20%3C/div%3E%60%2C%0A%20%20%20%20%20%20%20%20%20%20%20%20%20%20%20%20%7B%22sticky%22%3A%20true%7D%0A%20%20%20%20%20%20%20%20%20%20%20%20%29%3B%0A%20%20%20%20%20%20%20%20%0A%20%20%20%20%0A%20%20%20%20%20%20%20%20%20%20%20%20var%20circle_marker_4aa01e4ee5c441a39fdaa48268fc238c%20%3D%20L.circleMarker%28%0A%20%20%20%20%20%20%20%20%20%20%20%20%20%20%20%20%5B55.3761111111%2C%2021.0305555556%5D%2C%0A%20%20%20%20%20%20%20%20%20%20%20%20%20%20%20%20%7B%22bubblingMouseEvents%22%3A%20true%2C%20%22color%22%3A%20null%2C%20%22dashArray%22%3A%20null%2C%20%22dashOffset%22%3A%20null%2C%20%22fill%22%3A%20true%2C%20%22fillColor%22%3A%20%22%23fa7935ff%22%2C%20%22fillOpacity%22%3A%201%2C%20%22fillRule%22%3A%20%22evenodd%22%2C%20%22lineCap%22%3A%20%22round%22%2C%20%22lineJoin%22%3A%20%22round%22%2C%20%22opacity%22%3A%201.0%2C%20%22radius%22%3A%205%2C%20%22stroke%22%3A%20true%2C%20%22weight%22%3A%203%7D%0A%20%20%20%20%20%20%20%20%20%20%20%20%29.addTo%28map_12794c6b4d7d4e96bc0e04395654816c%29%3B%0A%20%20%20%20%20%20%20%20%0A%20%20%20%20%0A%20%20%20%20%20%20%20%20%20%20%20%20circle_marker_4aa01e4ee5c441a39fdaa48268fc238c.bindTooltip%28%0A%20%20%20%20%20%20%20%20%20%20%20%20%20%20%20%20%60%3Cdiv%3E%0A%20%20%20%20%20%20%20%20%20%20%20%20%20%20%20%20%20%20%20%20%20Preila%3A%20nitrate%20%3D%200.52%0A%20%20%20%20%20%20%20%20%20%20%20%20%20%20%20%20%20%3C/div%3E%60%2C%0A%20%20%20%20%20%20%20%20%20%20%20%20%20%20%20%20%7B%22sticky%22%3A%20true%7D%0A%20%20%20%20%20%20%20%20%20%20%20%20%29%3B%0A%20%20%20%20%20%20%20%20%0A%20%20%20%20%0A%20%20%20%20%20%20%20%20%20%20%20%20var%20circle_marker_6011b1a1d6a0481dadd9fe1f6238787a%20%3D%20L.circleMarker%28%0A%20%20%20%20%20%20%20%20%20%20%20%20%20%20%20%20%5B56.161944%2C%2021.173056%5D%2C%0A%20%20%20%20%20%20%20%20%20%20%20%20%20%20%20%20%7B%22bubblingMouseEvents%22%3A%20true%2C%20%22color%22%3A%20null%2C%20%22dashArray%22%3A%20null%2C%20%22dashOffset%22%3A%20null%2C%20%22fill%22%3A%20true%2C%20%22fillColor%22%3A%20%22%23ffee97ff%22%2C%20%22fillOpacity%22%3A%201%2C%20%22fillRule%22%3A%20%22evenodd%22%2C%20%22lineCap%22%3A%20%22round%22%2C%20%22lineJoin%22%3A%20%22round%22%2C%20%22opacity%22%3A%201.0%2C%20%22radius%22%3A%205%2C%20%22stroke%22%3A%20true%2C%20%22weight%22%3A%203%7D%0A%20%20%20%20%20%20%20%20%20%20%20%20%29.addTo%28map_12794c6b4d7d4e96bc0e04395654816c%29%3B%0A%20%20%20%20%20%20%20%20%0A%20%20%20%20%0A%20%20%20%20%20%20%20%20%20%20%20%20circle_marker_6011b1a1d6a0481dadd9fe1f6238787a.bindTooltip%28%0A%20%20%20%20%20%20%20%20%20%20%20%20%20%20%20%20%60%3Cdiv%3E%0A%20%20%20%20%20%20%20%20%20%20%20%20%20%20%20%20%20%20%20%20%20Rucava%3A%20nitrate%20%3D%200.073%0A%20%20%20%20%20%20%20%20%20%20%20%20%20%20%20%20%20%3C/div%3E%60%2C%0A%20%20%20%20%20%20%20%20%20%20%20%20%20%20%20%20%7B%22sticky%22%3A%20true%7D%0A%20%20%20%20%20%20%20%20%20%20%20%20%29%3B%0A%20%20%20%20%20%20%20%20%0A%20%20%20%20%0A%20%20%20%20%20%20%20%20%20%20%20%20var%20circle_marker_28e43bf4b3194a2abff859ceeaf51a84%20%3D%20L.circleMarker%28%0A%20%20%20%20%20%20%20%20%20%20%20%20%20%20%20%20%5B46.4884%2C%2028.2835%5D%2C%0A%20%20%20%20%20%20%20%20%20%20%20%20%20%20%20%20%7B%22bubblingMouseEvents%22%3A%20true%2C%20%22color%22%3A%20null%2C%20%22dashArray%22%3A%20null%2C%20%22dashOffset%22%3A%20null%2C%20%22fill%22%3A%20true%2C%20%22fillColor%22%3A%20%22%23bd0026ff%22%2C%20%22fillOpacity%22%3A%201%2C%20%22fillRule%22%3A%20%22evenodd%22%2C%20%22lineCap%22%3A%20%22round%22%2C%20%22lineJoin%22%3A%20%22round%22%2C%20%22opacity%22%3A%201.0%2C%20%22radius%22%3A%205%2C%20%22stroke%22%3A%20true%2C%20%22weight%22%3A%203%7D%0A%20%20%20%20%20%20%20%20%20%20%20%20%29.addTo%28map_12794c6b4d7d4e96bc0e04395654816c%29%3B%0A%20%20%20%20%20%20%20%20%0A%20%20%20%20%0A%20%20%20%20%20%20%20%20%20%20%20%20circle_marker_28e43bf4b3194a2abff859ceeaf51a84.bindTooltip%28%0A%20%20%20%20%20%20%20%20%20%20%20%20%20%20%20%20%60%3Cdiv%3E%0A%20%20%20%20%20%20%20%20%20%20%20%20%20%20%20%20%20%20%20%20%20Leova%20II%3A%20nitrate%20%3D%200.803%0A%20%20%20%20%20%20%20%20%20%20%20%20%20%20%20%20%20%3C/div%3E%60%2C%0A%20%20%20%20%20%20%20%20%20%20%20%20%20%20%20%20%7B%22sticky%22%3A%20true%7D%0A%20%20%20%20%20%20%20%20%20%20%20%20%29%3B%0A%20%20%20%20%20%20%20%20%0A%20%20%20%20%0A%20%20%20%20%20%20%20%20%20%20%20%20var%20circle_marker_bd931697f54d410f886b79479614a5a6%20%3D%20L.circleMarker%28%0A%20%20%20%20%20%20%20%20%20%20%20%20%20%20%20%20%5B58.38853%2C%208.252%5D%2C%0A%20%20%20%20%20%20%20%20%20%20%20%20%20%20%20%20%7B%22bubblingMouseEvents%22%3A%20true%2C%20%22color%22%3A%20null%2C%20%22dashArray%22%3A%20null%2C%20%22dashOffset%22%3A%20null%2C%20%22fill%22%3A%20true%2C%20%22fillColor%22%3A%20%22%23ffdd7cff%22%2C%20%22fillOpacity%22%3A%201%2C%20%22fillRule%22%3A%20%22evenodd%22%2C%20%22lineCap%22%3A%20%22round%22%2C%20%22lineJoin%22%3A%20%22round%22%2C%20%22opacity%22%3A%201.0%2C%20%22radius%22%3A%205%2C%20%22stroke%22%3A%20true%2C%20%22weight%22%3A%203%7D%0A%20%20%20%20%20%20%20%20%20%20%20%20%29.addTo%28map_12794c6b4d7d4e96bc0e04395654816c%29%3B%0A%20%20%20%20%20%20%20%20%0A%20%20%20%20%0A%20%20%20%20%20%20%20%20%20%20%20%20circle_marker_bd931697f54d410f886b79479614a5a6.bindTooltip%28%0A%20%20%20%20%20%20%20%20%20%20%20%20%20%20%20%20%60%3Cdiv%3E%0A%20%20%20%20%20%20%20%20%20%20%20%20%20%20%20%20%20%20%20%20%20Birkenes%20II%3A%20nitrate%20%3D%200.145%0A%20%20%20%20%20%20%20%20%20%20%20%20%20%20%20%20%20%3C/div%3E%60%2C%0A%20%20%20%20%20%20%20%20%20%20%20%20%20%20%20%20%7B%22sticky%22%3A%20true%7D%0A%20%20%20%20%20%20%20%20%20%20%20%20%29%3B%0A%20%20%20%20%20%20%20%20%0A%20%20%20%20%0A%20%20%20%20%20%20%20%20%20%20%20%20var%20circle_marker_18e6416a74ae4f8fa87b251cc39c15f0%20%3D%20L.circleMarker%28%0A%20%20%20%20%20%20%20%20%20%20%20%20%20%20%20%20%5B65.833333%2C%2013.916667%5D%2C%0A%20%20%20%20%20%20%20%20%20%20%20%20%20%20%20%20%7B%22bubblingMouseEvents%22%3A%20true%2C%20%22color%22%3A%20null%2C%20%22dashArray%22%3A%20null%2C%20%22dashOffset%22%3A%20null%2C%20%22fill%22%3A%20true%2C%20%22fillColor%22%3A%20%22%23fff7a5ff%22%2C%20%22fillOpacity%22%3A%201%2C%20%22fillRule%22%3A%20%22evenodd%22%2C%20%22lineCap%22%3A%20%22round%22%2C%20%22lineJoin%22%3A%20%22round%22%2C%20%22opacity%22%3A%201.0%2C%20%22radius%22%3A%205%2C%20%22stroke%22%3A%20true%2C%20%22weight%22%3A%203%7D%0A%20%20%20%20%20%20%20%20%20%20%20%20%29.addTo%28map_12794c6b4d7d4e96bc0e04395654816c%29%3B%0A%20%20%20%20%20%20%20%20%0A%20%20%20%20%0A%20%20%20%20%20%20%20%20%20%20%20%20circle_marker_18e6416a74ae4f8fa87b251cc39c15f0.bindTooltip%28%0A%20%20%20%20%20%20%20%20%20%20%20%20%20%20%20%20%60%3Cdiv%3E%0A%20%20%20%20%20%20%20%20%20%20%20%20%20%20%20%20%20%20%20%20%20Tustervatn%3A%20nitrate%20%3D%200.035%0A%20%20%20%20%20%20%20%20%20%20%20%20%20%20%20%20%20%3C/div%3E%60%2C%0A%20%20%20%20%20%20%20%20%20%20%20%20%20%20%20%20%7B%22sticky%22%3A%20true%7D%0A%20%20%20%20%20%20%20%20%20%20%20%20%29%3B%0A%20%20%20%20%20%20%20%20%0A%20%20%20%20%0A%20%20%20%20%20%20%20%20%20%20%20%20var%20circle_marker_2742cbb10ebf446590844bab91a94569%20%3D%20L.circleMarker%28%0A%20%20%20%20%20%20%20%20%20%20%20%20%20%20%20%20%5B62.783333%2C%208.883333%5D%2C%0A%20%20%20%20%20%20%20%20%20%20%20%20%20%20%20%20%7B%22bubblingMouseEvents%22%3A%20true%2C%20%22color%22%3A%20null%2C%20%22dashArray%22%3A%20null%2C%20%22dashOffset%22%3A%20null%2C%20%22fill%22%3A%20true%2C%20%22fillColor%22%3A%20%22%23fff8a7ff%22%2C%20%22fillOpacity%22%3A%201%2C%20%22fillRule%22%3A%20%22evenodd%22%2C%20%22lineCap%22%3A%20%22round%22%2C%20%22lineJoin%22%3A%20%22round%22%2C%20%22opacity%22%3A%201.0%2C%20%22radius%22%3A%205%2C%20%22stroke%22%3A%20true%2C%20%22weight%22%3A%203%7D%0A%20%20%20%20%20%20%20%20%20%20%20%20%29.addTo%28map_12794c6b4d7d4e96bc0e04395654816c%29%3B%0A%20%20%20%20%20%20%20%20%0A%20%20%20%20%0A%20%20%20%20%20%20%20%20%20%20%20%20circle_marker_2742cbb10ebf446590844bab91a94569.bindTooltip%28%0A%20%20%20%20%20%20%20%20%20%20%20%20%20%20%20%20%60%3Cdiv%3E%0A%20%20%20%20%20%20%20%20%20%20%20%20%20%20%20%20%20%20%20%20%20K%C3%A5rvatn%3A%20nitrate%20%3D%200.031%0A%20%20%20%20%20%20%20%20%20%20%20%20%20%20%20%20%20%3C/div%3E%60%2C%0A%20%20%20%20%20%20%20%20%20%20%20%20%20%20%20%20%7B%22sticky%22%3A%20true%7D%0A%20%20%20%20%20%20%20%20%20%20%20%20%29%3B%0A%20%20%20%20%20%20%20%20%0A%20%20%20%20%0A%20%20%20%20%20%20%20%20%20%20%20%20var%20circle_marker_5eb837a025e74784b7f5916b17f63742%20%3D%20L.circleMarker%28%0A%20%20%20%20%20%20%20%20%20%20%20%20%20%20%20%20%5B78.90715%2C%2011.88668%5D%2C%0A%20%20%20%20%20%20%20%20%20%20%20%20%20%20%20%20%7B%22bubblingMouseEvents%22%3A%20true%2C%20%22color%22%3A%20null%2C%20%22dashArray%22%3A%20null%2C%20%22dashOffset%22%3A%20null%2C%20%22fill%22%3A%20true%2C%20%22fillColor%22%3A%20%22%23fffbacff%22%2C%20%22fillOpacity%22%3A%201%2C%20%22fillRule%22%3A%20%22evenodd%22%2C%20%22lineCap%22%3A%20%22round%22%2C%20%22lineJoin%22%3A%20%22round%22%2C%20%22opacity%22%3A%201.0%2C%20%22radius%22%3A%205%2C%20%22stroke%22%3A%20true%2C%20%22weight%22%3A%203%7D%0A%20%20%20%20%20%20%20%20%20%20%20%20%29.addTo%28map_12794c6b4d7d4e96bc0e04395654816c%29%3B%0A%20%20%20%20%20%20%20%20%0A%20%20%20%20%0A%20%20%20%20%20%20%20%20%20%20%20%20circle_marker_5eb837a025e74784b7f5916b17f63742.bindTooltip%28%0A%20%20%20%20%20%20%20%20%20%20%20%20%20%20%20%20%60%3Cdiv%3E%0A%20%20%20%20%20%20%20%20%20%20%20%20%20%20%20%20%20%20%20%20%20Zeppelin%20mountain%20%28Ny-%C3%85lesund%29%3A%20nitrate%20%3D%200.017%0A%20%20%20%20%20%20%20%20%20%20%20%20%20%20%20%20%20%3C/div%3E%60%2C%0A%20%20%20%20%20%20%20%20%20%20%20%20%20%20%20%20%7B%22sticky%22%3A%20true%7D%0A%20%20%20%20%20%20%20%20%20%20%20%20%29%3B%0A%20%20%20%20%20%20%20%20%0A%20%20%20%20%0A%20%20%20%20%20%20%20%20%20%20%20%20var%20circle_marker_e6b185ebcea44578bce1402293d52245%20%3D%20L.circleMarker%28%0A%20%20%20%20%20%20%20%20%20%20%20%20%20%20%20%20%5B60.372386%2C%2011.078142%5D%2C%0A%20%20%20%20%20%20%20%20%20%20%20%20%20%20%20%20%7B%22bubblingMouseEvents%22%3A%20true%2C%20%22color%22%3A%20null%2C%20%22dashArray%22%3A%20null%2C%20%22dashOffset%22%3A%20null%2C%20%22fill%22%3A%20true%2C%20%22fillColor%22%3A%20%22%23ffee96ff%22%2C%20%22fillOpacity%22%3A%201%2C%20%22fillRule%22%3A%20%22evenodd%22%2C%20%22lineCap%22%3A%20%22round%22%2C%20%22lineJoin%22%3A%20%22round%22%2C%20%22opacity%22%3A%201.0%2C%20%22radius%22%3A%205%2C%20%22stroke%22%3A%20true%2C%20%22weight%22%3A%203%7D%0A%20%20%20%20%20%20%20%20%20%20%20%20%29.addTo%28map_12794c6b4d7d4e96bc0e04395654816c%29%3B%0A%20%20%20%20%20%20%20%20%0A%20%20%20%20%0A%20%20%20%20%20%20%20%20%20%20%20%20circle_marker_e6b185ebcea44578bce1402293d52245.bindTooltip%28%0A%20%20%20%20%20%20%20%20%20%20%20%20%20%20%20%20%60%3Cdiv%3E%0A%20%20%20%20%20%20%20%20%20%20%20%20%20%20%20%20%20%20%20%20%20Hurdal%3A%20nitrate%20%3D%200.075%0A%20%20%20%20%20%20%20%20%20%20%20%20%20%20%20%20%20%3C/div%3E%60%2C%0A%20%20%20%20%20%20%20%20%20%20%20%20%20%20%20%20%7B%22sticky%22%3A%20true%7D%0A%20%20%20%20%20%20%20%20%20%20%20%20%29%3B%0A%20%20%20%20%20%20%20%20%0A%20%20%20%20%0A%20%20%20%20%20%20%20%20%20%20%20%20var%20circle_marker_067885c0b84f48d0a1d2429a38e2a153%20%3D%20L.circleMarker%28%0A%20%20%20%20%20%20%20%20%20%20%20%20%20%20%20%20%5B78.92501%2C%2011.92659%5D%2C%0A%20%20%20%20%20%20%20%20%20%20%20%20%20%20%20%20%7B%22bubblingMouseEvents%22%3A%20true%2C%20%22color%22%3A%20null%2C%20%22dashArray%22%3A%20null%2C%20%22dashOffset%22%3A%20null%2C%20%22fill%22%3A%20true%2C%20%22fillColor%22%3A%20%22%23fffcacff%22%2C%20%22fillOpacity%22%3A%201%2C%20%22fillRule%22%3A%20%22evenodd%22%2C%20%22lineCap%22%3A%20%22round%22%2C%20%22lineJoin%22%3A%20%22round%22%2C%20%22opacity%22%3A%201.0%2C%20%22radius%22%3A%205%2C%20%22stroke%22%3A%20true%2C%20%22weight%22%3A%203%7D%0A%20%20%20%20%20%20%20%20%20%20%20%20%29.addTo%28map_12794c6b4d7d4e96bc0e04395654816c%29%3B%0A%20%20%20%20%20%20%20%20%0A%20%20%20%20%0A%20%20%20%20%20%20%20%20%20%20%20%20circle_marker_067885c0b84f48d0a1d2429a38e2a153.bindTooltip%28%0A%20%20%20%20%20%20%20%20%20%20%20%20%20%20%20%20%60%3Cdiv%3E%0A%20%20%20%20%20%20%20%20%20%20%20%20%20%20%20%20%20%20%20%20%20Ny-%C3%85lesund%20-%20Transformatorbua%3A%20nitrate%20%3D%200.017%0A%20%20%20%20%20%20%20%20%20%20%20%20%20%20%20%20%20%3C/div%3E%60%2C%0A%20%20%20%20%20%20%20%20%20%20%20%20%20%20%20%20%7B%22sticky%22%3A%20true%7D%0A%20%20%20%20%20%20%20%20%20%20%20%20%29%3B%0A%20%20%20%20%20%20%20%20%0A%20%20%20%20%0A%20%20%20%20%20%20%20%20%20%20%20%20var%20circle_marker_89f1ac08d1ae4e90a2c2b4be4dd4dcc0%20%3D%20L.circleMarker%28%0A%20%20%20%20%20%20%20%20%20%20%20%20%20%20%20%20%5B78.92472%2C%2011.92643%5D%2C%0A%20%20%20%20%20%20%20%20%20%20%20%20%20%20%20%20%7B%22bubblingMouseEvents%22%3A%20true%2C%20%22color%22%3A%20null%2C%20%22dashArray%22%3A%20null%2C%20%22dashOffset%22%3A%20null%2C%20%22fill%22%3A%20true%2C%20%22fillColor%22%3A%20%22%23fffcadff%22%2C%20%22fillOpacity%22%3A%201%2C%20%22fillRule%22%3A%20%22evenodd%22%2C%20%22lineCap%22%3A%20%22round%22%2C%20%22lineJoin%22%3A%20%22round%22%2C%20%22opacity%22%3A%201.0%2C%20%22radius%22%3A%205%2C%20%22stroke%22%3A%20true%2C%20%22weight%22%3A%203%7D%0A%20%20%20%20%20%20%20%20%20%20%20%20%29.addTo%28map_12794c6b4d7d4e96bc0e04395654816c%29%3B%0A%20%20%20%20%20%20%20%20%0A%20%20%20%20%0A%20%20%20%20%20%20%20%20%20%20%20%20circle_marker_89f1ac08d1ae4e90a2c2b4be4dd4dcc0.bindTooltip%28%0A%20%20%20%20%20%20%20%20%20%20%20%20%20%20%20%20%60%3Cdiv%3E%0A%20%20%20%20%20%20%20%20%20%20%20%20%20%20%20%20%20%20%20%20%20Ny-%C3%85lesund%20-%20Nordpolhotellet%3A%20nitrate%20%3D%200.013%0A%20%20%20%20%20%20%20%20%20%20%20%20%20%20%20%20%20%3C/div%3E%60%2C%0A%20%20%20%20%20%20%20%20%20%20%20%20%20%20%20%20%7B%22sticky%22%3A%20true%7D%0A%20%20%20%20%20%20%20%20%20%20%20%20%29%3B%0A%20%20%20%20%20%20%20%20%0A%20%20%20%20%0A%20%20%20%20%20%20%20%20%20%20%20%20var%20circle_marker_5396439161cd49d79b7d1dda367358ed%20%3D%20L.circleMarker%28%0A%20%20%20%20%20%20%20%20%20%20%20%20%20%20%20%20%5B51.814408%2C%2021.972419%5D%2C%0A%20%20%20%20%20%20%20%20%20%20%20%20%20%20%20%20%7B%22bubblingMouseEvents%22%3A%20true%2C%20%22color%22%3A%20null%2C%20%22dashArray%22%3A%20null%2C%20%22dashOffset%22%3A%20null%2C%20%22fill%22%3A%20true%2C%20%22fillColor%22%3A%20%22%23fd8c3bff%22%2C%20%22fillOpacity%22%3A%201%2C%20%22fillRule%22%3A%20%22evenodd%22%2C%20%22lineCap%22%3A%20%22round%22%2C%20%22lineJoin%22%3A%20%22round%22%2C%20%22opacity%22%3A%201.0%2C%20%22radius%22%3A%205%2C%20%22stroke%22%3A%20true%2C%20%22weight%22%3A%203%7D%0A%20%20%20%20%20%20%20%20%20%20%20%20%29.addTo%28map_12794c6b4d7d4e96bc0e04395654816c%29%3B%0A%20%20%20%20%20%20%20%20%0A%20%20%20%20%0A%20%20%20%20%20%20%20%20%20%20%20%20circle_marker_5396439161cd49d79b7d1dda367358ed.bindTooltip%28%0A%20%20%20%20%20%20%20%20%20%20%20%20%20%20%20%20%60%3Cdiv%3E%0A%20%20%20%20%20%20%20%20%20%20%20%20%20%20%20%20%20%20%20%20%20Jarczew%3A%20nitrate%20%3D%200.484%0A%20%20%20%20%20%20%20%20%20%20%20%20%20%20%20%20%20%3C/div%3E%60%2C%0A%20%20%20%20%20%20%20%20%20%20%20%20%20%20%20%20%7B%22sticky%22%3A%20true%7D%0A%20%20%20%20%20%20%20%20%20%20%20%20%29%3B%0A%20%20%20%20%20%20%20%20%0A%20%20%20%20%0A%20%20%20%20%20%20%20%20%20%20%20%20var%20circle_marker_37bdb8721c70421fa89c95a8597fc3ca%20%3D%20L.circleMarker%28%0A%20%20%20%20%20%20%20%20%20%20%20%20%20%20%20%20%5B50.736408%2C%2015.739917%5D%2C%0A%20%20%20%20%20%20%20%20%20%20%20%20%20%20%20%20%7B%22bubblingMouseEvents%22%3A%20true%2C%20%22color%22%3A%20null%2C%20%22dashArray%22%3A%20null%2C%20%22dashOffset%22%3A%20null%2C%20%22fill%22%3A%20true%2C%20%22fillColor%22%3A%20%22%23f65f2cff%22%2C%20%22fillOpacity%22%3A%201%2C%20%22fillRule%22%3A%20%22evenodd%22%2C%20%22lineCap%22%3A%20%22round%22%2C%20%22lineJoin%22%3A%20%22round%22%2C%20%22opacity%22%3A%201.0%2C%20%22radius%22%3A%205%2C%20%22stroke%22%3A%20true%2C%20%22weight%22%3A%203%7D%0A%20%20%20%20%20%20%20%20%20%20%20%20%29.addTo%28map_12794c6b4d7d4e96bc0e04395654816c%29%3B%0A%20%20%20%20%20%20%20%20%0A%20%20%20%20%0A%20%20%20%20%20%20%20%20%20%20%20%20circle_marker_37bdb8721c70421fa89c95a8597fc3ca.bindTooltip%28%0A%20%20%20%20%20%20%20%20%20%20%20%20%20%20%20%20%60%3Cdiv%3E%0A%20%20%20%20%20%20%20%20%20%20%20%20%20%20%20%20%20%20%20%20%20Sniezka%3A%20nitrate%20%3D%200.572%0A%20%20%20%20%20%20%20%20%20%20%20%20%20%20%20%20%20%3C/div%3E%60%2C%0A%20%20%20%20%20%20%20%20%20%20%20%20%20%20%20%20%7B%22sticky%22%3A%20true%7D%0A%20%20%20%20%20%20%20%20%20%20%20%20%29%3B%0A%20%20%20%20%20%20%20%20%0A%20%20%20%20%0A%20%20%20%20%20%20%20%20%20%20%20%20var%20circle_marker_6350be23d42b4684b6dcf56eed1b5ca2%20%3D%20L.circleMarker%28%0A%20%20%20%20%20%20%20%20%20%20%20%20%20%20%20%20%5B54.753894%2C%2017.534264%5D%2C%0A%20%20%20%20%20%20%20%20%20%20%20%20%20%20%20%20%7B%22bubblingMouseEvents%22%3A%20true%2C%20%22color%22%3A%20null%2C%20%22dashArray%22%3A%20null%2C%20%22dashOffset%22%3A%20null%2C%20%22fill%22%3A%20true%2C%20%22fillColor%22%3A%20%22%23fe9c42ff%22%2C%20%22fillOpacity%22%3A%201%2C%20%22fillRule%22%3A%20%22evenodd%22%2C%20%22lineCap%22%3A%20%22round%22%2C%20%22lineJoin%22%3A%20%22round%22%2C%20%22opacity%22%3A%201.0%2C%20%22radius%22%3A%205%2C%20%22stroke%22%3A%20true%2C%20%22weight%22%3A%203%7D%0A%20%20%20%20%20%20%20%20%20%20%20%20%29.addTo%28map_12794c6b4d7d4e96bc0e04395654816c%29%3B%0A%20%20%20%20%20%20%20%20%0A%20%20%20%20%0A%20%20%20%20%20%20%20%20%20%20%20%20circle_marker_6350be23d42b4684b6dcf56eed1b5ca2.bindTooltip%28%0A%20%20%20%20%20%20%20%20%20%20%20%20%20%20%20%20%60%3Cdiv%3E%0A%20%20%20%20%20%20%20%20%20%20%20%20%20%20%20%20%20%20%20%20%20Leba%3A%20nitrate%20%3D%200.418%0A%20%20%20%20%20%20%20%20%20%20%20%20%20%20%20%20%20%3C/div%3E%60%2C%0A%20%20%20%20%20%20%20%20%20%20%20%20%20%20%20%20%7B%22sticky%22%3A%20true%7D%0A%20%20%20%20%20%20%20%20%20%20%20%20%29%3B%0A%20%20%20%20%20%20%20%20%0A%20%20%20%20%0A%20%20%20%20%20%20%20%20%20%20%20%20var%20circle_marker_2b31f2cc5cce481590443f9541935e10%20%3D%20L.circleMarker%28%0A%20%20%20%20%20%20%20%20%20%20%20%20%20%20%20%20%5B54.15%2C%2022.066667%5D%2C%0A%20%20%20%20%20%20%20%20%20%20%20%20%20%20%20%20%7B%22bubblingMouseEvents%22%3A%20true%2C%20%22color%22%3A%20null%2C%20%22dashArray%22%3A%20null%2C%20%22dashOffset%22%3A%20null%2C%20%22fill%22%3A%20true%2C%20%22fillColor%22%3A%20%22%23fea245ff%22%2C%20%22fillOpacity%22%3A%201%2C%20%22fillRule%22%3A%20%22evenodd%22%2C%20%22lineCap%22%3A%20%22round%22%2C%20%22lineJoin%22%3A%20%22round%22%2C%20%22opacity%22%3A%201.0%2C%20%22radius%22%3A%205%2C%20%22stroke%22%3A%20true%2C%20%22weight%22%3A%203%7D%0A%20%20%20%20%20%20%20%20%20%20%20%20%29.addTo%28map_12794c6b4d7d4e96bc0e04395654816c%29%3B%0A%20%20%20%20%20%20%20%20%0A%20%20%20%20%0A%20%20%20%20%20%20%20%20%20%20%20%20circle_marker_2b31f2cc5cce481590443f9541935e10.bindTooltip%28%0A%20%20%20%20%20%20%20%20%20%20%20%20%20%20%20%20%60%3Cdiv%3E%0A%20%20%20%20%20%20%20%20%20%20%20%20%20%20%20%20%20%20%20%20%20Diabla%20Gora%3A%20nitrate%20%3D%200.39%0A%20%20%20%20%20%20%20%20%20%20%20%20%20%20%20%20%20%3C/div%3E%60%2C%0A%20%20%20%20%20%20%20%20%20%20%20%20%20%20%20%20%7B%22sticky%22%3A%20true%7D%0A%20%20%20%20%20%20%20%20%20%20%20%20%29%3B%0A%20%20%20%20%20%20%20%20%0A%20%20%20%20%0A%20%20%20%20%20%20%20%20%20%20%20%20var%20circle_marker_4cae00a1c8214adaa86933603755ad34%20%3D%20L.circleMarker%28%0A%20%20%20%20%20%20%20%20%20%20%20%20%20%20%20%20%5B54.9%2C%2037.8%5D%2C%0A%20%20%20%20%20%20%20%20%20%20%20%20%20%20%20%20%7B%22bubblingMouseEvents%22%3A%20true%2C%20%22color%22%3A%20null%2C%20%22dashArray%22%3A%20null%2C%20%22dashOffset%22%3A%20null%2C%20%22fill%22%3A%20true%2C%20%22fillColor%22%3A%20%22%23db2122ff%22%2C%20%22fillOpacity%22%3A%201%2C%20%22fillRule%22%3A%20%22evenodd%22%2C%20%22lineCap%22%3A%20%22round%22%2C%20%22lineJoin%22%3A%20%22round%22%2C%20%22opacity%22%3A%201.0%2C%20%22radius%22%3A%205%2C%20%22stroke%22%3A%20true%2C%20%22weight%22%3A%203%7D%0A%20%20%20%20%20%20%20%20%20%20%20%20%29.addTo%28map_12794c6b4d7d4e96bc0e04395654816c%29%3B%0A%20%20%20%20%20%20%20%20%0A%20%20%20%20%0A%20%20%20%20%20%20%20%20%20%20%20%20circle_marker_4cae00a1c8214adaa86933603755ad34.bindTooltip%28%0A%20%20%20%20%20%20%20%20%20%20%20%20%20%20%20%20%60%3Cdiv%3E%0A%20%20%20%20%20%20%20%20%20%20%20%20%20%20%20%20%20%20%20%20%20Danki%3A%20nitrate%20%3D%200.711%0A%20%20%20%20%20%20%20%20%20%20%20%20%20%20%20%20%20%3C/div%3E%60%2C%0A%20%20%20%20%20%20%20%20%20%20%20%20%20%20%20%20%7B%22sticky%22%3A%20true%7D%0A%20%20%20%20%20%20%20%20%20%20%20%20%29%3B%0A%20%20%20%20%20%20%20%20%0A%20%20%20%20%0A%20%20%20%20%20%20%20%20%20%20%20%20var%20circle_marker_35b8af8aedb342ccb2460e40368e4799%20%3D%20L.circleMarker%28%0A%20%20%20%20%20%20%20%20%20%20%20%20%20%20%20%20%5B63.85%2C%2015.333333%5D%2C%0A%20%20%20%20%20%20%20%20%20%20%20%20%20%20%20%20%7B%22bubblingMouseEvents%22%3A%20true%2C%20%22color%22%3A%20null%2C%20%22dashArray%22%3A%20null%2C%20%22dashOffset%22%3A%20null%2C%20%22fill%22%3A%20true%2C%20%22fillColor%22%3A%20%22%23fffbabff%22%2C%20%22fillOpacity%22%3A%201%2C%20%22fillRule%22%3A%20%22evenodd%22%2C%20%22lineCap%22%3A%20%22round%22%2C%20%22lineJoin%22%3A%20%22round%22%2C%20%22opacity%22%3A%201.0%2C%20%22radius%22%3A%205%2C%20%22stroke%22%3A%20true%2C%20%22weight%22%3A%203%7D%0A%20%20%20%20%20%20%20%20%20%20%20%20%29.addTo%28map_12794c6b4d7d4e96bc0e04395654816c%29%3B%0A%20%20%20%20%20%20%20%20%0A%20%20%20%20%0A%20%20%20%20%20%20%20%20%20%20%20%20circle_marker_35b8af8aedb342ccb2460e40368e4799.bindTooltip%28%0A%20%20%20%20%20%20%20%20%20%20%20%20%20%20%20%20%60%3Cdiv%3E%0A%20%20%20%20%20%20%20%20%20%20%20%20%20%20%20%20%20%20%20%20%20Bredk%C3%A4len%3A%20nitrate%20%3D%200.019%0A%20%20%20%20%20%20%20%20%20%20%20%20%20%20%20%20%20%3C/div%3E%60%2C%0A%20%20%20%20%20%20%20%20%20%20%20%20%20%20%20%20%7B%22sticky%22%3A%20true%7D%0A%20%20%20%20%20%20%20%20%20%20%20%20%29%3B%0A%20%20%20%20%20%20%20%20%0A%20%20%20%20%0A%20%20%20%20%20%20%20%20%20%20%20%20var%20circle_marker_c27a3bcb66cc451cbe0f6792b1a46f71%20%3D%20L.circleMarker%28%0A%20%20%20%20%20%20%20%20%20%20%20%20%20%20%20%20%5B57.394%2C%2011.914%5D%2C%0A%20%20%20%20%20%20%20%20%20%20%20%20%20%20%20%20%7B%22bubblingMouseEvents%22%3A%20true%2C%20%22color%22%3A%20null%2C%20%22dashArray%22%3A%20null%2C%20%22dashOffset%22%3A%20null%2C%20%22fill%22%3A%20true%2C%20%22fillColor%22%3A%20%22%23feb14bff%22%2C%20%22fillOpacity%22%3A%201%2C%20%22fillRule%22%3A%20%22evenodd%22%2C%20%22lineCap%22%3A%20%22round%22%2C%20%22lineJoin%22%3A%20%22round%22%2C%20%22opacity%22%3A%201.0%2C%20%22radius%22%3A%205%2C%20%22stroke%22%3A%20true%2C%20%22weight%22%3A%203%7D%0A%20%20%20%20%20%20%20%20%20%20%20%20%29.addTo%28map_12794c6b4d7d4e96bc0e04395654816c%29%3B%0A%20%20%20%20%20%20%20%20%0A%20%20%20%20%0A%20%20%20%20%20%20%20%20%20%20%20%20circle_marker_c27a3bcb66cc451cbe0f6792b1a46f71.bindTooltip%28%0A%20%20%20%20%20%20%20%20%20%20%20%20%20%20%20%20%60%3Cdiv%3E%0A%20%20%20%20%20%20%20%20%20%20%20%20%20%20%20%20%20%20%20%20%20R%C3%A5%C3%B6%3A%20nitrate%20%3D%200.327%0A%20%20%20%20%20%20%20%20%20%20%20%20%20%20%20%20%20%3C/div%3E%60%2C%0A%20%20%20%20%20%20%20%20%20%20%20%20%20%20%20%20%7B%22sticky%22%3A%20true%7D%0A%20%20%20%20%20%20%20%20%20%20%20%20%29%3B%0A%20%20%20%20%20%20%20%20%0A%20%20%20%20%0A%20%20%20%20%20%20%20%20%20%20%20%20var%20circle_marker_69ad389eca7d4211922184e9c3a234b2%20%3D%20L.circleMarker%28%0A%20%20%20%20%20%20%20%20%20%20%20%20%20%20%20%20%5B56.0429%2C%2013.148%5D%2C%0A%20%20%20%20%20%20%20%20%20%20%20%20%20%20%20%20%7B%22bubblingMouseEvents%22%3A%20true%2C%20%22color%22%3A%20null%2C%20%22dashArray%22%3A%20null%2C%20%22dashOffset%22%3A%20null%2C%20%22fill%22%3A%20true%2C%20%22fillColor%22%3A%20%22%23fe9840ff%22%2C%20%22fillOpacity%22%3A%201%2C%20%22fillRule%22%3A%20%22evenodd%22%2C%20%22lineCap%22%3A%20%22round%22%2C%20%22lineJoin%22%3A%20%22round%22%2C%20%22opacity%22%3A%201.0%2C%20%22radius%22%3A%205%2C%20%22stroke%22%3A%20true%2C%20%22weight%22%3A%203%7D%0A%20%20%20%20%20%20%20%20%20%20%20%20%29.addTo%28map_12794c6b4d7d4e96bc0e04395654816c%29%3B%0A%20%20%20%20%20%20%20%20%0A%20%20%20%20%0A%20%20%20%20%20%20%20%20%20%20%20%20circle_marker_69ad389eca7d4211922184e9c3a234b2.bindTooltip%28%0A%20%20%20%20%20%20%20%20%20%20%20%20%20%20%20%20%60%3Cdiv%3E%0A%20%20%20%20%20%20%20%20%20%20%20%20%20%20%20%20%20%20%20%20%20Hallahus%3A%20nitrate%20%3D%200.436%0A%20%20%20%20%20%20%20%20%20%20%20%20%20%20%20%20%20%3C/div%3E%60%2C%0A%20%20%20%20%20%20%20%20%20%20%20%20%20%20%20%20%7B%22sticky%22%3A%20true%7D%0A%20%20%20%20%20%20%20%20%20%20%20%20%29%3B%0A%20%20%20%20%20%20%20%20%0A%20%20%20%20%0A%20%20%20%20%20%20%20%20%20%20%20%20var%20circle_marker_4b60a144fb434113a6b3f1696e9057ac%20%3D%20L.circleMarker%28%0A%20%20%20%20%20%20%20%20%20%20%20%20%20%20%20%20%5B60.0858%2C%2017.50528%5D%2C%0A%20%20%20%20%20%20%20%20%20%20%20%20%20%20%20%20%7B%22bubblingMouseEvents%22%3A%20true%2C%20%22color%22%3A%20null%2C%20%22dashArray%22%3A%20null%2C%20%22dashOffset%22%3A%20null%2C%20%22fill%22%3A%20true%2C%20%22fillColor%22%3A%20%22%23ffeb92ff%22%2C%20%22fillOpacity%22%3A%201%2C%20%22fillRule%22%3A%20%22evenodd%22%2C%20%22lineCap%22%3A%20%22round%22%2C%20%22lineJoin%22%3A%20%22round%22%2C%20%22opacity%22%3A%201.0%2C%20%22radius%22%3A%205%2C%20%22stroke%22%3A%20true%2C%20%22weight%22%3A%203%7D%0A%20%20%20%20%20%20%20%20%20%20%20%20%29.addTo%28map_12794c6b4d7d4e96bc0e04395654816c%29%3B%0A%20%20%20%20%20%20%20%20%0A%20%20%20%20%0A%20%20%20%20%20%20%20%20%20%20%20%20circle_marker_4b60a144fb434113a6b3f1696e9057ac.bindTooltip%28%0A%20%20%20%20%20%20%20%20%20%20%20%20%20%20%20%20%60%3Cdiv%3E%0A%20%20%20%20%20%20%20%20%20%20%20%20%20%20%20%20%20%20%20%20%20Norunda%20Stenen%3A%20nitrate%20%3D%200.086%0A%20%20%20%20%20%20%20%20%20%20%20%20%20%20%20%20%20%3C/div%3E%60%2C%0A%20%20%20%20%20%20%20%20%20%20%20%20%20%20%20%20%7B%22sticky%22%3A%20true%7D%0A%20%20%20%20%20%20%20%20%20%20%20%20%29%3B%0A%20%20%20%20%20%20%20%20%0A%20%20%20%20%0A%20%20%20%20%20%20%20%20%20%20%20%20var%20circle_marker_0b06af2e3f444a12b97f6d4c4ac48c36%20%3D%20L.circleMarker%28%0A%20%20%20%20%20%20%20%20%20%20%20%20%20%20%20%20%5B48.933333%2C%2019.583333%5D%2C%0A%20%20%20%20%20%20%20%20%20%20%20%20%20%20%20%20%7B%22bubblingMouseEvents%22%3A%20true%2C%20%22color%22%3A%20null%2C%20%22dashArray%22%3A%20null%2C%20%22dashOffset%22%3A%20null%2C%20%22fill%22%3A%20true%2C%20%22fillColor%22%3A%20%22%23ffe487ff%22%2C%20%22fillOpacity%22%3A%201%2C%20%22fillRule%22%3A%20%22evenodd%22%2C%20%22lineCap%22%3A%20%22round%22%2C%20%22lineJoin%22%3A%20%22round%22%2C%20%22opacity%22%3A%201.0%2C%20%22radius%22%3A%205%2C%20%22stroke%22%3A%20true%2C%20%22weight%22%3A%203%7D%0A%20%20%20%20%20%20%20%20%20%20%20%20%29.addTo%28map_12794c6b4d7d4e96bc0e04395654816c%29%3B%0A%20%20%20%20%20%20%20%20%0A%20%20%20%20%0A%20%20%20%20%20%20%20%20%20%20%20%20circle_marker_0b06af2e3f444a12b97f6d4c4ac48c36.bindTooltip%28%0A%20%20%20%20%20%20%20%20%20%20%20%20%20%20%20%20%60%3Cdiv%3E%0A%20%20%20%20%20%20%20%20%20%20%20%20%20%20%20%20%20%20%20%20%20Chopok%3A%20nitrate%20%3D%200.114%0A%20%20%20%20%20%20%20%20%20%20%20%20%20%20%20%20%20%3C/div%3E%60%2C%0A%20%20%20%20%20%20%20%20%20%20%20%20%20%20%20%20%7B%22sticky%22%3A%20true%7D%0A%20%20%20%20%20%20%20%20%20%20%20%20%29%3B%0A%20%20%20%20%20%20%20%20%0A%20%20%20%20%0A%20%20%20%20%20%20%20%20%20%20%20%20var%20circle_marker_13845a6c52c84948b34be1c941990ace%20%3D%20L.circleMarker%28%0A%20%20%20%20%20%20%20%20%20%20%20%20%20%20%20%20%5B49.05%2C%2022.266667%5D%2C%0A%20%20%20%20%20%20%20%20%20%20%20%20%20%20%20%20%7B%22bubblingMouseEvents%22%3A%20true%2C%20%22color%22%3A%20null%2C%20%22dashArray%22%3A%20null%2C%20%22dashOffset%22%3A%20null%2C%20%22fill%22%3A%20true%2C%20%22fillColor%22%3A%20%22%23fe9d43ff%22%2C%20%22fillOpacity%22%3A%201%2C%20%22fillRule%22%3A%20%22evenodd%22%2C%20%22lineCap%22%3A%20%22round%22%2C%20%22lineJoin%22%3A%20%22round%22%2C%20%22opacity%22%3A%201.0%2C%20%22radius%22%3A%205%2C%20%22stroke%22%3A%20true%2C%20%22weight%22%3A%203%7D%0A%20%20%20%20%20%20%20%20%20%20%20%20%29.addTo%28map_12794c6b4d7d4e96bc0e04395654816c%29%3B%0A%20%20%20%20%20%20%20%20%0A%20%20%20%20%0A%20%20%20%20%20%20%20%20%20%20%20%20circle_marker_13845a6c52c84948b34be1c941990ace.bindTooltip%28%0A%20%20%20%20%20%20%20%20%20%20%20%20%20%20%20%20%60%3Cdiv%3E%0A%20%20%20%20%20%20%20%20%20%20%20%20%20%20%20%20%20%20%20%20%20Starina%3A%20nitrate%20%3D%200.411%0A%20%20%20%20%20%20%20%20%20%20%20%20%20%20%20%20%20%3C/div%3E%60%2C%0A%20%20%20%20%20%20%20%20%20%20%20%20%20%20%20%20%7B%22sticky%22%3A%20true%7D%0A%20%20%20%20%20%20%20%20%20%20%20%20%29%3B%0A%20%20%20%20%20%20%20%20%0A%3C/script%3E onload=\"this.contentDocument.open();this.contentDocument.write(    decodeURIComponent(this.getAttribute('data-html')));this.contentDocument.close();\" allowfullscreen webkitallowfullscreen mozallowfullscreen></iframe></div></div>"
      ],
      "text/plain": [
       "<folium.folium.Map at 0x22dd055c6a0>"
      ]
     },
     "execution_count": 138,
     "metadata": {},
     "output_type": "execute_result"
    }
   ],
   "source": [
    "# interactive map\n",
    "main_map = folium.Map(location=(55, 0), zoom_start=3, color=\"grey\")\n",
    "folium.TileLayer('cartodbpositron').add_to(main_map)\n",
    "\n",
    "colormap = linear.YlOrRd_06.scale(0,max_val)\n",
    "\n",
    "# den_colormap = colormap.colors\n",
    "# den_colormap.reverse()\n",
    "\n",
    "# colormap = LinearColormap(colors=den_colormap)\n",
    "\n",
    "colormap.add_to(main_map)\n",
    "for site in site_data.keys():\n",
    "    content =site_data[site]\n",
    "    icon_color = \"black\" if np.isnan(content[\"vals\"]) else colormap(content[\"vals\"])\n",
    "    # city_graph = city_graphs['for_map'][city.station_id][field_to_color_by]\n",
    "    try:\n",
    "        lat = float(content[\"lat\"])\n",
    "        lon = float(content[\"lon\"])\n",
    "    except:\n",
    "        continue\n",
    "    if not np.isnan(lat):\n",
    "        folium.CircleMarker(location=[float(content[\"lat\"]), float(content[\"lon\"])],\n",
    "                        tooltip=f\"{content['name']}: {combox1.value[0]} = {np.round(content['vals'],3)}\",\n",
    "                        fill=True,\n",
    "                        fill_color=icon_color,\n",
    "                        color=None,\n",
    "                        fill_opacity=1,\n",
    "                        radius= 0.01 if np.isnan(content[\"vals\"]) else 5\n",
    "                        #     popup = folium.Popup().add_child(\n",
    "                        #                             folium.features.VegaLite(city_graph)\n",
    "                        #                             )\n",
    "                        ).add_to(main_map)\n",
    "\n",
    "\n",
    "main_map"
   ]
  }
 ],
 "metadata": {
  "kernelspec": {
   "display_name": "Python 3 (ipykernel)",
   "language": "python",
   "name": "python3"
  },
  "language_info": {
   "codemirror_mode": {
    "name": "ipython",
    "version": 3
   },
   "file_extension": ".py",
   "mimetype": "text/x-python",
   "name": "python",
   "nbconvert_exporter": "python",
   "pygments_lexer": "ipython3",
   "version": "3.8.11"
  }
 },
 "nbformat": 4,
 "nbformat_minor": 5
}
